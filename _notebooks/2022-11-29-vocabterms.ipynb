{
 "cells": [
  {
   "cell_type": "markdown",
   "metadata": {},
   "source": [
    "# Vocab Terms\n",
    "> Documentation of vocab\n",
    "\n",
    "- toc: true \n",
    "- badges: true\n",
    "- comments: true\n",
    "- categories: [jupyter]\n",
    "- image: images/chart-preview.png"
   ]
  },
  {
   "cell_type": "markdown",
   "metadata": {},
   "source": [
    "## General Notes\n",
    "Primitives are predefined, lowercase, \"Primitives\", which cannot call methods, are a value, and can be different sizes based on what primitive it is. Non primitives are defined by the coder, are uppercase, \"Reference types\", which can call methods, can be null, and are all the same size\n",
    "\n",
    "---\n",
    "\n",
    "OOP or object oriented programming is a type of programming language. Classes are a template or blueprint from which objects are created. Objects are instances of a class. Methods are a set of code that perform a specific task. Classes in java can hace data members, methods, constructors, nested classes, and interfaces.\n",
    "\n",
    "---\n",
    "\n",
    "If/else statements allow you to create a code segment that has checks. If/ElseIf/Else statments can be used to decide different program outputs depending on what the user inputted. Switch statements are also an alternative method to if statements.\n",
    "\n",
    "---\n",
    "\n",
    "Iteration is worth 25% of the test so its pretty important. While loops, for loops, and recursion loops are types of loops. Another example is nested iteration, which can put a loop inside another loop.\n",
    "\n",
    "---\n",
    "\n",
    "Classes are a blueprint for instantiating objects. An object is an istance of a class, a class defines an abstract type, methods are the behaviors you get objects to perform. Constructors create the object, are a special method for object instantiation, default constructor has no arguements. Accessor methods are getters and setters, which allow you to get values of variables and return a copy, or edit a variable.\n",
    "\n",
    "---\n",
    "\n",
    "Common errors when making arrays include bound errors, unfilled and uninitialized arrays, when you allocate, or assign a single array variable, but not the whole array. You can use for loops to iterate through an array, by using array.length."
   ]
  },
  {
   "cell_type": "markdown",
   "metadata": {},
   "source": [
    "# Terms\n",
    "### Casting(Division) - \n",
    "this can be done by added a parenthesis in front of the value that you are trying to cast(which changes the type of that value/variable)."
   ]
  },
  {
   "cell_type": "code",
   "execution_count": 5,
   "metadata": {
    "vscode": {
     "languageId": "java"
    }
   },
   "outputs": [
    {
     "name": "stdout",
     "output_type": "stream",
     "text": [
      "Without Cast: 0.0\n",
      "With cast: 0.7142857142857143\n"
     ]
    }
   ],
   "source": [
    "int num = 5;\n",
    "int denom = 7;\n",
    "double d = num / denom;\n",
    "System.out.println(\"Without Cast: \"+d);\n",
    "double d = ((double) num) / denom;\n",
    "System.out.println(\"With cast: \"+d);"
   ]
  },
  {
   "cell_type": "markdown",
   "metadata": {},
   "source": [
    "### Casting(Truncating or Rounding)-\n",
    "examples of this include turning a double into an int. "
   ]
  },
  {
   "cell_type": "code",
   "execution_count": 8,
   "metadata": {
    "vscode": {
     "languageId": "java"
    }
   },
   "outputs": [
    {
     "name": "stdout",
     "output_type": "stream",
     "text": [
      "Not Rounded: 9.78\n",
      "Rounded: 9\n"
     ]
    }
   ],
   "source": [
    "double exampleDouble = 9.78d;\n",
    "System.out.println(\"Not Rounded: \" + exampleDouble);\n",
    "int exampleInt = (int) exampleDouble;\n",
    "System.out.println(\"Rounded: \" + exampleInt);"
   ]
  },
  {
   "cell_type": "markdown",
   "metadata": {},
   "source": [
    "### Wrapper Classes - \n",
    "these are classes in java where primitive data types can be used as objects. For examples, int to Integer, double to Double, char to Character. These are useful in cases such as arraylists, where they can only interact with objects, and not primitive types, that's why you would want to wrap an int, or a double"
   ]
  },
  {
   "cell_type": "code",
   "execution_count": 14,
   "metadata": {
    "vscode": {
     "languageId": "java"
    }
   },
   "outputs": [
    {
     "ename": "CompilationException",
     "evalue": "",
     "output_type": "error",
     "traceback": [
      "\u001b[1m\u001b[30m|   \u001b[1m\u001b[30mArrayList<\u001b[0m\u001b[1m\u001b[30m\u001b[41mint\u001b[0m\u001b[1m\u001b[30m> myNumbers = new ArrayList<int>();\u001b[0m",
      "\u001b[1m\u001b[31munexpected type\u001b[0m",
      "\u001b[1m\u001b[31m  required: reference\u001b[0m",
      "\u001b[1m\u001b[31m  found:    int\u001b[0m",
      "",
      "\u001b[1m\u001b[30m|   \u001b[1m\u001b[30mArrayList<int> myNumbers = new ArrayList<\u001b[0m\u001b[1m\u001b[30m\u001b[41mint\u001b[0m\u001b[1m\u001b[30m>();\u001b[0m",
      "\u001b[1m\u001b[31munexpected type\u001b[0m",
      "\u001b[1m\u001b[31m  required: reference\u001b[0m",
      "\u001b[1m\u001b[31m  found:    int\u001b[0m",
      ""
     ]
    }
   ],
   "source": [
    "ArrayList<Integer> myNumbers = new ArrayList<Integer>(); // This example works because the arraylist recognizes the Integer object\n",
    "ArrayList<int> myNumbers = new ArrayList<int>(); // This example doesn't work because the arraylist doesn't recognize the primitive type int\n",
    "\n",
    "Integer intVariable = 456;\n",
    "Double doubVaribale = 456.456;"
   ]
  },
  {
   "cell_type": "markdown",
   "metadata": {},
   "source": [
    "### Concatenation \n",
    "the process of combining two or more strings to form a new string. It can also be referred in terms of combining values or variables"
   ]
  },
  {
   "cell_type": "code",
   "execution_count": 20,
   "metadata": {
    "vscode": {
     "languageId": "java"
    }
   },
   "outputs": [
    {
     "name": "stdout",
     "output_type": "stream",
     "text": [
      "hello world\n",
      "hello world 10\n",
      "hello world 10 20\n",
      "40 adding words\n"
     ]
    }
   ],
   "source": [
    "String word1 = \"hello \";\n",
    "String word2 = \"world\";\n",
    "\n",
    "System.out.println(word1+word2);\n",
    "\n",
    "word2 = word2+ \" 10\";\n",
    "\n",
    "System.out.println(word1+word2);\n",
    "\n",
    "word2 += \" 20\";\n",
    "\n",
    "System.out.println(word1+word2);\n",
    "\n",
    "//can also concat variables and string\n",
    "\n",
    "int x = 40;\n",
    "System.out.println(x+\" adding words\");"
   ]
  },
  {
   "cell_type": "markdown",
   "metadata": {},
   "source": [
    "### Java Math Class -"
   ]
  },
  {
   "cell_type": "markdown",
   "metadata": {},
   "source": []
  }
 ],
 "metadata": {
  "kernelspec": {
   "display_name": "Java",
   "language": "java",
   "name": "java"
  },
  "language_info": {
   "codemirror_mode": "java",
   "file_extension": ".jshell",
   "mimetype": "text/x-java-source",
   "name": "Java",
   "pygments_lexer": "java",
   "version": "11.0.16.1+0"
  },
  "orig_nbformat": 4
 },
 "nbformat": 4,
 "nbformat_minor": 2
}
