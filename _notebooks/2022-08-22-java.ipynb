{
 "cells": [
  {
   "cell_type": "markdown",
   "metadata": {},
   "source": [
    "# Java Jupyter Notebook\n",
    "> Documentation of the Java Notebook\n",
    "\n",
    "- toc: true \n",
    "- badges: true\n",
    "- comments: true\n",
    "- categories: [jupyter]\n",
    "- image: images/chart-preview.png"
   ]
  },
  {
   "cell_type": "code",
   "execution_count": 70,
   "metadata": {
    "vscode": {
     "languageId": "java"
    }
   },
   "outputs": [
    {
     "name": "stdout",
     "output_type": "stream",
     "text": [
      "Hello World!\n"
     ]
    }
   ],
   "source": [
    "public class Hello {\n",
    "    public static void main(String[] args) {\n",
    "        System.out.println(\"Hello World!\");\n",
    "    }\n",
    "}\n",
    "\n",
    "Hello.main(null);"
   ]
  },
  {
   "cell_type": "code",
   "execution_count": 27,
   "metadata": {
    "vscode": {
     "languageId": "java"
    }
   },
   "outputs": [
    {
     "name": "stdout",
     "output_type": "stream",
     "text": [
      "How many classes do you have\n",
      "5\n",
      "Now answer some questions about your grades\n",
      "\n",
      "-------\n",
      "what is your grade in period 1\n",
      "A\n",
      "-------\n",
      "what is your grade in period 2\n"
     ]
    },
    {
     "ename": "EvalException",
     "evalue": "Scanner closed",
     "output_type": "error",
     "traceback": [
      "\u001b[1m\u001b[31m---------------------------------------------------------------------------\u001b[0m",
      "\u001b[1m\u001b[31mjava.lang.IllegalStateException: Scanner closed\u001b[0m",
      "\u001b[1m\u001b[31m\tat java.base/java.util.Scanner.ensureOpen(Scanner.java:1150)\u001b[0m",
      "\u001b[1m\u001b[31m\tat java.base/java.util.Scanner.findWithinHorizon(Scanner.java:1781)\u001b[0m",
      "\u001b[1m\u001b[31m\tat java.base/java.util.Scanner.nextLine(Scanner.java:1649)\u001b[0m",
      "\u001b[1m\u001b[31m\tat GPACalc.gradeForm(#13:1)\u001b[0m",
      "\u001b[1m\u001b[31m\tat GPACalc.gradeCalc(#13:1)\u001b[0m",
      "\u001b[1m\u001b[31m\tat GPACalc.main(#13:1)\u001b[0m",
      "\u001b[1m\u001b[31m\tat .(#36:1)\u001b[0m"
     ]
    }
   ],
   "source": [
    "// import java.util.Scanner;\n",
    "\n",
    "// public class GPACalc{\n",
    "  \n",
    "//     void gradeCalc(){\n",
    "//         Scanner inputClasses;\n",
    "//         inputClasses = new Scanner(System.in);\n",
    "//         System.out.print(\"How many classes do you have\");\n",
    "//         int classNumber = inputClasses.nextInt();\n",
    "//         System.out.println(\"\\n\"+classNumber);\n",
    "//         if(classNumber!=0){\n",
    "//             System.out.println(\"Now answer some questions about your grades\");\n",
    "//         }else{\n",
    "//             System.out.print(\"Why are you running this program\");\n",
    "//         }\n",
    "//         inputClasses.close();\n",
    "//         gradeForm(classNumber);\n",
    "//     }\n",
    "\n",
    "//     void gradeForm(int classNumber){\n",
    "//         Scanner inputGrades = new Scanner(System.in);\n",
    "//         // inputGrades.close();\n",
    "//         // System.out.println(\"------\");\n",
    "//         // System.out.println(\"What is your grade in period 1\");\n",
    "//         String grade=\"\";\n",
    "//         // grade = inputGrades.nextLine();\n",
    "//         System.out.println(grade);\n",
    "//         for(int i = 0; i < classNumber;i++){\n",
    "//             System.out.println(\"-------\");\n",
    "//             System.out.println(\"what is your grade in period \"+(i+1));\n",
    "//             grade = inputGrades.nextLine();\n",
    "//             System.out.println(grade);\n",
    "//         }\n",
    "//         inputGrades.close();\n",
    "//     }   \n",
    "\n",
    "// public static void main(String [] args){\n",
    "//     GPACalc starter = new GPACalc();\n",
    "//     starter.gradeCalc();\n",
    "// }\n",
    "    \n",
    "// }\n",
    "\n",
    "\n",
    "\n",
    "// GPACalc.main(null);"
   ]
  },
  {
   "cell_type": "code",
   "execution_count": null,
   "metadata": {
    "vscode": {
     "languageId": "java"
    }
   },
   "outputs": [],
   "source": []
  },
  {
   "cell_type": "code",
   "execution_count": 3,
   "metadata": {
    "vscode": {
     "languageId": "java"
    }
   },
   "outputs": [
    {
     "name": "stdout",
     "output_type": "stream",
     "text": [
      "\n",
      "You have 5 classes\n",
      "Now answer some questions about your grades\n",
      "Your class score total is 20.0\n",
      "Your GPA is 4.0\n"
     ]
    }
   ],
   "source": [
    "import java.util.Scanner;\n",
    "import javax.swing.JOptionPane;\n",
    "\n",
    "public class AlsoGPACalc{\n",
    "  \n",
    "\n",
    "   void gradeCalc(){\n",
    "      String uInputClass= JOptionPane.showInputDialog(\"How many classes do you have\");\n",
    "      int classNumber=Integer.parseInt(uInputClass);\n",
    "      System.out.println(\"\\nYou have \"+classNumber+\" classes\");\n",
    "      if(classNumber!=0){\n",
    "          System.out.println(\"Now answer some questions about your grades\");\n",
    "      }else{\n",
    "          System.out.print(\"Why are you running this program\");\n",
    "      }\n",
    "      gradeForm(classNumber);\n",
    "  }\n",
    "\n",
    "  void gradeForm(int classNumber){\n",
    "      double total=0.0;\n",
    "      String uGrade=\"\";\n",
    "      for(int i = 0; i < classNumber;i++){\n",
    "        uGrade = JOptionPane.showInputDialog(\"What is your grade in period \"+(i+1)); \n",
    "        double x = Double.parseDouble(uGrade);\n",
    "        if(x>=90.0){\n",
    "            total+=4.0;\n",
    "        }else if(x>=80.0){\n",
    "            total+=3.0;\n",
    "        }else if(x>=70.0){\n",
    "            total+=2.0;\n",
    "        }else if(x>=60.0){\n",
    "            total+=1.0;\n",
    "        }else{\n",
    "            total+=0.0;\n",
    "        }\n",
    "      }\n",
    "      System.out.println(\"Your class score total is \"+total);\n",
    "      double finalCalc = total/classNumber;\n",
    "      System.out.println(\"Your GPA is \"+finalCalc);\n",
    "      JOptionPane.showMessageDialog(null, \"Your GPA is \"+finalCalc);\n",
    "\n",
    "  }   \n",
    "   \n",
    "public static void main(String [] args){\n",
    "   AlsoGPACalc start1 = new AlsoGPACalc();\n",
    "   start1.gradeCalc();\n",
    "}\n",
    "    \n",
    "}\n",
    "\n",
    "\n",
    "\n",
    "AlsoGPACalc.main(null);"
   ]
  },
  {
   "cell_type": "code",
   "execution_count": 33,
   "metadata": {
    "vscode": {
     "languageId": "java"
    }
   },
   "outputs": [
    {
     "name": "stdout",
     "output_type": "stream",
     "text": [
      "\n",
      "5\n",
      "it works\n"
     ]
    }
   ],
   "source": [
    "import javax.swing.JOptionPane;\n",
    "public class Tester {\n",
    "    public static void main(String[] args) {\n",
    "        String uInputClass= JOptionPane.showInputDialog(\"How many classes do you have\");\n",
    "        int classNumber=Integer.parseInt(uInputClass);\n",
    "        System.out.println(\"\\n\"+classNumber);\n",
    "        if(classNumber==5){\n",
    "            System.out.println(\"it works\");\n",
    "        }\n",
    "    }\n",
    "}\n",
    "\n",
    "Tester.main(null);"
   ]
  },
  {
   "cell_type": "code",
   "execution_count": 5,
   "metadata": {
    "vscode": {
     "languageId": "java"
    }
   },
   "outputs": [
    {
     "name": "stdout",
     "output_type": "stream",
     "text": [
      "Primes between 2 and 20: 3 5 7 11 13 17 19 "
     ]
    }
   ],
   "source": [
    "import javax.swing.JOptionPane;\n",
    "import java.util.ArrayList; \n",
    "\n",
    "\n",
    "public class PrimeOrNot {\n",
    "    public static void main(String[] args) {\n",
    "        ArrayList<Integer> primes = new ArrayList<Integer>();\n",
    "        String userInput = JOptionPane.showInputDialog(\"What range of numbers do you want to test?(2-number)\");\n",
    "        int x = Integer.parseInt(userInput);\n",
    "        boolean isPrime=false;\n",
    "        for(int i = 2; i < x; i++){\n",
    "            for(int j = 2; j <= i/2; j++){\n",
    "                isPrime=true;\n",
    "                if (i % j == 0) {\n",
    "                    isPrime = false;\n",
    "                    break;\n",
    "                }\n",
    "            }\n",
    "            if(isPrime==true){\n",
    "                // System.out.println(i+\" is a prime number\");\n",
    "                primes.add(i);\n",
    "             }\n",
    "            //  else{\n",
    "            //     System.out.println(i+\" is not a prime number\");\n",
    "            // }\n",
    "        }\n",
    "        System.out.print(\"Primes between 2 and \"+x+\": \"+\"3 \");\n",
    "        for (int num : primes)\n",
    "\t      { \t\t      \n",
    "\t           System.out.print(num+\" \"); \t\t\n",
    "\t      }\n",
    "    }\n",
    "}\n",
    "\n",
    "PrimeOrNot.main(null);"
   ]
  }
 ],
 "metadata": {
  "kernelspec": {
   "display_name": "Java",
   "language": "java",
   "name": "java"
  },
  "language_info": {
   "codemirror_mode": "java",
   "file_extension": ".jshell",
   "mimetype": "text/x-java-source",
   "name": "Java",
   "pygments_lexer": "java",
   "version": "17.0.4+8"
  },
  "orig_nbformat": 4
 },
 "nbformat": 4,
 "nbformat_minor": 2
}
