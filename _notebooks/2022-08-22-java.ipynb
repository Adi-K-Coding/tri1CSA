{
 "cells": [
  {
   "cell_type": "markdown",
   "metadata": {},
   "source": [
    "# Java Jupyter Notebook\n",
    "> Documentation of the Java Notebook\n",
    "\n",
    "- toc: true \n",
    "- badges: true\n",
    "- comments: true\n",
    "- categories: [jupyter]\n",
    "- image: images/chart-preview.png"
   ]
  },
  {
   "cell_type": "code",
   "execution_count": 70,
   "metadata": {},
   "outputs": [
    {
     "name": "stdout",
     "output_type": "stream",
     "text": [
      "Hello World!\n"
     ]
    }
   ],
   "source": [
    "public class Hello {\n",
    "    public static void main(String[] args) {\n",
    "        System.out.println(\"Hello World!\");\n",
    "    }\n",
    "}\n",
    "\n",
    "Hello.main(null);"
   ]
  },
  {
   "cell_type": "code",
   "execution_count": 6,
   "metadata": {},
   "outputs": [
    {
     "name": "stdout",
     "output_type": "stream",
     "text": [
      "\n",
      "You have 5 classes\n",
      "Now answer some questions about your grades\n",
      "Your class score total is 17.0\n",
      "Your GPA is 3.4\n"
     ]
    }
   ],
   "source": [
    "import java.util.Scanner;\n",
    "import javax.swing.JOptionPane;\n",
    "\n",
    "public class AlsoGPACalc{\n",
    "  \n",
    "\n",
    "   void gradeCalc(){\n",
    "      String uInputClass= JOptionPane.showInputDialog(\"How many classes do you have\");\n",
    "      int classNumber=Integer.parseInt(uInputClass);\n",
    "      System.out.println(\"\\nYou have \"+classNumber+\" classes\");\n",
    "      if(classNumber!=0){\n",
    "          System.out.println(\"Now answer some questions about your grades\");\n",
    "      }else{\n",
    "          System.out.print(\"Why are you running this program\");\n",
    "      }\n",
    "      gradeForm(classNumber);\n",
    "  }\n",
    "\n",
    "  void gradeForm(int classNumber){\n",
    "      double total=0.0;\n",
    "      String uGrade=\"\";\n",
    "      for(int i = 0; i < classNumber;i++){\n",
    "        uGrade = JOptionPane.showInputDialog(\"What is your grade in period \"+(i+1)); \n",
    "        double x = Double.parseDouble(uGrade);\n",
    "        if(x>=90.0){\n",
    "            total+=4.0;\n",
    "        }else if(x>=80.0){\n",
    "            total+=3.0;\n",
    "        }else if(x>=70.0){\n",
    "            total+=2.0;\n",
    "        }else if(x>=60.0){\n",
    "            total+=1.0;\n",
    "        }else{\n",
    "            total+=0.0;\n",
    "        }\n",
    "      }\n",
    "      System.out.println(\"Your class score total is \"+total);\n",
    "      double finalCalc = total/classNumber;\n",
    "      System.out.println(\"Your GPA is \"+finalCalc);\n",
    "      JOptionPane.showMessageDialog(null, \"Your GPA is \"+finalCalc);\n",
    "\n",
    "  }   \n",
    "   \n",
    "public static void main(String [] args){\n",
    "   AlsoGPACalc start1 = new AlsoGPACalc();\n",
    "   start1.gradeCalc();\n",
    "}\n",
    "    \n",
    "}\n",
    "\n",
    "\n",
    "\n",
    "AlsoGPACalc.main(null);"
   ]
  },
  {
   "cell_type": "code",
   "execution_count": 33,
   "metadata": {},
   "outputs": [
    {
     "name": "stdout",
     "output_type": "stream",
     "text": [
      "\n",
      "5\n",
      "it works\n"
     ]
    }
   ],
   "source": [
    "import javax.swing.JOptionPane;\n",
    "public class Tester {\n",
    "    public static void main(String[] args) {\n",
    "        String uInputClass= JOptionPane.showInputDialog(\"How many classes do you have\");\n",
    "        int classNumber=Integer.parseInt(uInputClass);\n",
    "        System.out.println(\"\\n\"+classNumber);\n",
    "        if(classNumber==5){\n",
    "            System.out.println(\"it works\");\n",
    "        }\n",
    "        \n",
    "    }\n",
    "}\n",
    "\n",
    "Tester.main(null);"
   ]
  },
  {
   "cell_type": "code",
   "execution_count": 2,
   "metadata": {},
   "outputs": [
    {
     "name": "stdout",
     "output_type": "stream",
     "text": [
      "Primes between 2 and 50: 3 5 7 11 13 17 19 23 29 31 37 41 43 47 "
     ]
    }
   ],
   "source": [
    "import javax.swing.JOptionPane;\n",
    "import java.util.ArrayList; \n",
    "\n",
    "\n",
    "public class PrimeOrNot {\n",
    "    public static void main(String[] args) {\n",
    "        ArrayList<Integer> primes = new ArrayList<Integer>();\n",
    "        String userInput = JOptionPane.showInputDialog(\"What range of numbers do you want to test?(2-number)\");\n",
    "        int x = Integer.parseInt(userInput);\n",
    "        boolean isPrime=false;\n",
    "        for(int i = 2; i < x; i++){\n",
    "            for(int j = 2; j <= i/2; j++){\n",
    "                isPrime=true;\n",
    "                if (i % j == 0) {\n",
    "                    isPrime = false;\n",
    "                    break;\n",
    "                }\n",
    "            }\n",
    "            if(isPrime==true){\n",
    "                primes.add(i);\n",
    "             }\n",
    "        }\n",
    "        \n",
    "        System.out.print(\"Primes between 2 and \"+x+\": \"+\"3 \");\n",
    "        String outputStr = \"\";\n",
    "        for (int num : primes)\n",
    "\t      { \t\t      \n",
    "\t         outputStr = outputStr + num +\" \" ;\n",
    "            System.out.print(num+\" \"); \t\t\n",
    "\t      }\n",
    "          JOptionPane.showMessageDialog(null,\"Primes between 2 and \"+x+\": \"+\"3 \"+outputStr );\n",
    "    }\n",
    "}\n",
    "\n",
    "PrimeOrNot.main(null);"
   ]
  },
  {
   "cell_type": "code",
   "execution_count": 1,
   "metadata": {},
   "outputs": [
    {
     "ename": "",
     "evalue": "",
     "output_type": "error",
     "traceback": [
      "The Kernel crashed while executing code in the the current cell or a previous cell. Please review the code in the cell(s) to identify a possible cause of the failure. Click <a href='https://aka.ms/vscodeJupyterKernelCrash'>here</a> for more info. View Jupyter <a href='command:jupyter.viewOutput'>log</a> for further details."
     ]
    }
   ],
   "source": [
    "import javax.swing.JOptionPane;\n",
    "import java.util.Random;\n",
    "\n",
    "public class NumGuesser {\n",
    "    Random rand = new Random();\n",
    "        boolean numCorrect = false;\n",
    "        String uGuess = \"\";\n",
    "        int numGuesses=0;\n",
    "    \n",
    "    void run(){\n",
    "        \n",
    "        int randNum = rand.nextInt(1000);\n",
    "        while(numCorrect==false){\n",
    "            uGuess = JOptionPane.showInputDialog(\"Guess the number between 1-1000\");\n",
    "            int uGuessNum = Integer.parseInt(uGuess);\n",
    "            if(uGuessNum>randNum){\n",
    "                JOptionPane.showMessageDialog(null, \"Guess too high, try again. Previous guess: \"+uGuessNum);\n",
    "                numGuesses+=1;\n",
    "            }else if(uGuessNum<randNum){\n",
    "                JOptionPane.showMessageDialog(null, \"Guess too low, try again. Previous guess: \"+uGuessNum);\n",
    "                numGuesses+=1;\n",
    "            }else if(uGuessNum==randNum){\n",
    "                JOptionPane.showMessageDialog(null, \"Correct! It took you \"+numGuesses+\" guesses to get it correct\");\n",
    "                numCorrect=true;\n",
    "            }\n",
    "        }\n",
    "    }\n",
    "    public static void main(String[] args) {\n",
    "        NumGuesser ng = new NumGuesser();\n",
    "        ng.run();\n",
    "    }\n",
    "}\n",
    "\n",
    "NumGuesser.main(null);"
   ]
  },
  {
   "cell_type": "code",
   "execution_count": 2,
   "metadata": {},
   "outputs": [
    {
     "ename": "",
     "evalue": "",
     "output_type": "error",
     "traceback": [
      "The Kernel crashed while executing code in the the current cell or a previous cell. Please review the code in the cell(s) to identify a possible cause of the failure. Click <a href='https://aka.ms/vscodeJupyterKernelCrash'>here</a> for more info. View Jupyter <a href='command:jupyter.viewOutput'>log</a> for further details."
     ]
    }
   ],
   "source": [
    "import javax.swing.JFrame;\n",
    "import javax.swing.JPanel;\n",
    "import javax.swing.JLabel;\n",
    "import javax.swing.JButton;\n",
    "import javax.swing.JTextField;\n",
    "import java.awt.*;\n",
    "import java.awt.event.*;\n",
    "\n",
    "public class Calculator implements ActionListener{\n",
    "    JFrame frame = new JFrame();\n",
    "    JPanel panel = new JPanel();\n",
    "    JButton addButton = new JButton(\"Addition\");\n",
    "    JButton subtractButton = new JButton(\"Subtraction\");\n",
    "    JButton multiplyButton = new JButton(\"Multiplication\");\n",
    "    JButton divideButton = new JButton(\"Division\");\n",
    "    JTextField field1String = new JTextField(20);\n",
    "    JTextField field2String = new JTextField(20);\n",
    "    JLabel label = new JLabel();\n",
    "    \n",
    "    void setup(){\n",
    "        frame.add(panel);\n",
    "        panel.add(field1String);\n",
    "        panel.add(field2String);\n",
    "        panel.add(addButton);\n",
    "        panel.add(subtractButton);\n",
    "        panel.add(multiplyButton);\n",
    "        panel.add(divideButton);\n",
    "        panel.add(label);\n",
    "        frame.setVisible(true);\n",
    "        frame.setDefaultCloseOperation(JFrame.EXIT_ON_CLOSE);\n",
    "        addButton.addActionListener(this);\n",
    "        subtractButton.addActionListener(this);\n",
    "        multiplyButton.addActionListener(this);\n",
    "        divideButton.addActionListener(this);\n",
    "        frame.setSize(new Dimension(300, 200));\n",
    "    }  \n",
    "\n",
    "    public static void main(String[] args) {\n",
    "        Calculator calc = new Calculator();\n",
    "        calc.setup();\n",
    "    }\n",
    "    @Override\n",
    "    public void actionPerformed(ActionEvent e) {\n",
    "        double field1 = Double.parseDouble(field1String.getText());\n",
    "        double field2 = Double.parseDouble(field2String.getText());\n",
    "        if(e.getSource()==addButton){\n",
    "            String addF = String.valueOf((field1)+(field2));\n",
    "            label.setText(addF);\n",
    "        }else if(e.getSource()==subtractButton){\n",
    "            String subF = String.valueOf((field1)-(field2));\n",
    "            label.setText(subF);\n",
    "        }else if(e.getSource()==multiplyButton){\n",
    "            String mulF = String.valueOf((field1)*(field2));\n",
    "            label.setText(mulF);\n",
    "        }else if(e.getSource()==divideButton){\n",
    "            String divF = String.valueOf((field1)/(field2));\n",
    "            label.setText(divF);\n",
    "        }\n",
    "        \n",
    "    }\n",
    "}\n",
    "\n",
    "\n",
    "\n",
    "Calculator.main(null);"
   ]
  }
 ],
 "metadata": {
  "kernelspec": {
   "display_name": "Java",
   "language": "java",
   "name": "java"
  },
  "language_info": {
   "codemirror_mode": "java",
   "file_extension": ".jshell",
   "mimetype": "text/x-java-source",
   "name": "java",
   "pygments_lexer": "java",
   "version": "17.0.4+8"
  },
  "orig_nbformat": 4
 },
 "nbformat": 4,
 "nbformat_minor": 2
}
