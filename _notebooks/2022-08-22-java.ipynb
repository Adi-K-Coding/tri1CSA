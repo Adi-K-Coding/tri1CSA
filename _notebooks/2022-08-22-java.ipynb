{
 "cells": [
  {
   "cell_type": "code",
   "execution_count": 70,
   "metadata": {
    "vscode": {
     "languageId": "java"
    }
   },
   "outputs": [
    {
     "name": "stdout",
     "output_type": "stream",
     "text": [
      "Hello World!\n"
     ]
    }
   ],
   "source": [
    "public class Hello {\n",
    "    public static void main(String[] args) {\n",
    "        System.out.println(\"Hello World!\");\n",
    "    }\n",
    "}\n",
    "\n",
    "Hello.main(null);"
   ]
  },
  {
   "cell_type": "code",
   "execution_count": 97,
   "metadata": {
    "vscode": {
     "languageId": "java"
    }
   },
   "outputs": [
    {
     "name": "stdout",
     "output_type": "stream",
     "text": [
      "How many classes do you have\n",
      "3\n",
      "-------\n",
      "what is your grade in period \n",
      "--\n",
      "A\n"
     ]
    }
   ],
   "source": [
    "import java.util.Scanner;\n",
    "\n",
    "public class GPACalc{\n",
    "    public static void main(String [] args){\n",
    "        GPACalc starter = new GPACalc();\n",
    "        starter.gradeCalc();\n",
    "    }\n",
    "        \n",
    "void gradeCalc(){\n",
    "        Scanner inputClasses;\n",
    "        inputClasses = new Scanner(System.in);\n",
    "        System.out.print(\"How many classes do you have\");\n",
    "                int classNumber = inputClasses.nextInt();\n",
    "                System.out.println(\"\\n\"+classNumber);\n",
    "                if(classNumber!=0){\n",
    "                    System.out.println(\"Now answer some questions about your grades\");\n",
    "                }else{\n",
    "                    System.out.print(\"Why are you running this program\");\n",
    "                }\n",
    "            inputClasses.close();\n",
    "            gradeForm(classNumber);\n",
    "    }\n",
    "void gradeForm(int classNumber){\n",
    "    Scanner inputGrades;\n",
    "    inputGrades = new Scanner(System.in);\n",
    "    String grade;\n",
    "    System.out.println(\"-------\");\n",
    "    System.out.println(\"what is your grade in period \");\n",
    "    System.out.println(\"--\");\n",
    "    grade = inputGrades.nextLine();\n",
    "    System.out.println(grade);\n",
    "    // for(int i = 1; i < classNumber+1;i++){\n",
    "    //     System.out.println(\"what is your grade in period \"+i);\n",
    "    //     System.out.println(\"\");\n",
    "    //     grade = input1.nextLine();\n",
    "    //     System.out.println(grade);\n",
    "    // }\n",
    "    inputGrades.close();\n",
    "}   \n",
    "}\n",
    "\n",
    "\n",
    "\n",
    "GPACalc.main(null);"
   ]
  },
  {
   "cell_type": "code",
   "execution_count": null,
   "metadata": {
    "vscode": {
     "languageId": "java"
    }
   },
   "outputs": [],
   "source": []
  }
 ],
 "metadata": {
  "kernelspec": {
   "display_name": "Java",
   "language": "java",
   "name": "java"
  },
  "language_info": {
   "codemirror_mode": "java",
   "file_extension": ".jshell",
   "mimetype": "text/x-java-source",
   "name": "Java",
   "pygments_lexer": "java",
   "version": "17.0.4+8"
  },
  "orig_nbformat": 4
 },
 "nbformat": 4,
 "nbformat_minor": 2
}
