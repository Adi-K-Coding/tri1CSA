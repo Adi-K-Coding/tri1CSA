{
 "cells": [
  {
   "cell_type": "code",
   "execution_count": 1,
   "id": "db9ed8be-2695-439e-866c-edbf58a728c7",
   "metadata": {},
   "outputs": [
    {
     "name": "stdout",
     "output_type": "stream",
     "text": [
      "Hello World!\n"
     ]
    }
   ],
   "source": [
    "public class Hello {\n",
    "    public static void main(String[] args) {\n",
    "        System.out.println(\"Hello World!\");\n",
    "    }\n",
    "}\n",
    "\n",
    "Hello.main(null);"
   ]
  },
  {
   "cell_type": "code",
   "execution_count": null,
   "id": "01d27b70-5734-4c3c-b02f-08aedce69eb2",
   "metadata": {},
   "outputs": [],
   "source": []
  }
 ],
 "metadata": {
  "kernelspec": {
   "display_name": "Java",
   "language": "java",
   "name": "java"
  },
  "language_info": {
   "codemirror_mode": "java",
   "file_extension": ".jshell",
   "mimetype": "text/x-java-source",
   "name": "Java",
   "pygments_lexer": "java",
   "version": "11.0.16.1+0"
  }
 },
 "nbformat": 4,
 "nbformat_minor": 5
}
