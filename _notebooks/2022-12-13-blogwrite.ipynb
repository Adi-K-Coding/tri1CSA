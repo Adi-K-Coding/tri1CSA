{
 "cells": [
  {
   "cell_type": "markdown",
   "metadata": {},
   "source": [
    "# Extra Credit Write Up\n",
    "> Documentation of Speaker Notes and Response\n",
    "\n",
    "- toc: true \n",
    "- badges: true\n",
    "- comments: true\n",
    "- categories: [jupyter]\n",
    "- image: images/chart-preview.png"
   ]
  },
  {
   "cell_type": "markdown",
   "metadata": {},
   "source": [
    "# Notes\n",
    "\n",
    "- Kathyleen Beveridge:\n",
    "    - Born in Vietnam\n",
    "    - Came to California in 1980\n",
    "    - Finance degree from Santa Clara University\n",
    "    - Started off as a stock broker working for Wells Fargo - didn’t enjoy her life\n",
    "    - Felt like working in investing had more of a “one to one” impact, less of a “one to many” impact\n",
    "    - Switched her path to work at tech companies, originally at HP, and then Qualcomm, now at ThermoFisher Scientific\n",
    "    - Works closely with engineering/R&D department to determine if new products fit into a certain market\n",
    "    - Mainly works at companies that use cs to serve the world\n",
    "    - With cs people can make macro-impacts on the world\n",
    "    - Thermo fisher is a biotech company that blends science and cs\n",
    "\n",
    "- Agile Methodology:\n",
    "    - Always working in short “Sprints”\n",
    "    - Being familiar with agile is highly regarded in the workforce\n",
    "\n",
    "\n",
    "\n",
    "- Kris Porter\n",
    "    - Software Engineer\n",
    "    - Went to UCLA for electrical engineering\n",
    "    - Masters in electrical engineering from Cal State Long Beach\n",
    "    - Finished grad school when the stock market crashed, couldn't find jobs\n",
    "    - Found a job at a startup doing DevOps work\n",
    "    - Moved to NBC setting up streaming infrastructure for the Olympics\n",
    "    - Worked for Qualcomm for 6 years \n",
    "    - Latest position working for Twitter\n",
    "    - Going into high tech involved continuous learning which is very important\n",
    "\n",
    "- Agile Methodology:\n",
    "    - Different companies have their own version of Agile\n",
    "    - Interacted together with 150 engineers in large meetings\n",
    "    - Created roadmaps for all projects no matter the size\n",
    "    - Helped build teamwork and coordinate everything\n",
    "\n",
    "- Machine Learning:\n",
    "    - Develop algorithms to try and predict trends and consumer trends\n",
    "    - This can save the company money\n",
    "\n",
    "- Most Important Skill in tech industry: continuous improvement and learning of new knowledge. Don't be super concerned about the things that you read on the news \n",
    "- The best people are people that listen and translate it to technology that can solve your requirements \n",
    "- Learning how to code is a way of thinking, thinking about it critically, and you can apply it to all your real word skills and experiences \n",
    "\n",
    "\n",
    "\n"
   ]
  },
  {
   "cell_type": "markdown",
   "metadata": {},
   "source": [
    "# Write Up\n",
    "The speakers were really helpful in giving us a lot of career advice for the future, whether it be in computer science, or in another field. They explained to us how the concepts and ideas that we learn in computer science class can be applied in all the aspects of our life. One of the biggest takeaways that they told that stuck with me was the idea that learning how to code is a way of thinking, even if you go into a field such as finance, or business. Once you learn how to code, you learn how to think critically, and this can be applied to so many different aspects of our lives. Thus, I was really inspired by this and this reinforces my desire to learn different languages. One of the coding/computer science specific things that stood out from the lecture was that machine learning and AI is really on the up and coming. Machine learning was a huge part of Mr. Porter's job and companies are starting to use it more and more to predict trends. This makes me interested in it and potentially wanting to learn more about it. Additionally, agile methodology is really helpful to learn because it helps you learn how to collaborate and improve your communication with your team members and peers. "
   ]
  }
 ],
 "metadata": {
  "kernelspec": {
   "display_name": "Java",
   "language": "java",
   "name": "java"
  },
  "language_info": {
   "name": "java",
   "version": "3.10.6"
  },
  "orig_nbformat": 4,
  "vscode": {
   "interpreter": {
    "hash": "b0fa6594d8f4cbf19f97940f81e996739fb7646882a419484c72d19e05852a7e"
   }
  }
 },
 "nbformat": 4,
 "nbformat_minor": 2
}
