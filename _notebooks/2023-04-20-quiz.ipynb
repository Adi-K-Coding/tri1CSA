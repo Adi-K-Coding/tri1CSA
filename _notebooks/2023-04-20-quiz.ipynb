{
 "cells": [
  {
   "cell_type": "markdown",
   "metadata": {},
   "source": [
    "# Test\n"
   ]
  },
  {
   "cell_type": "code",
   "execution_count": 24,
   "metadata": {
    "vscode": {
     "languageId": "java"
    }
   },
   "outputs": [
    {
     "name": "stdout",
     "output_type": "stream",
     "text": [
      "Title: Harry Potter\n",
      "ID: 2537\n",
      "Title: Percy Jackson\n",
      "ID: 3063\n",
      "Books in libarary: 2\n"
     ]
    }
   ],
   "source": [
    "import java.util.Random;\n",
    "import java.util.ArrayList;\n",
    "\n",
    "\n",
    "\n",
    "public class Book{\n",
    "    Random rand = new Random();\n",
    "    private String title;\n",
    "    private int bookCount;\n",
    "    private int ID;\n",
    "    ArrayList<Book> books = new ArrayList<Book>(); \n",
    "    \n",
    "    public Book(String title, int bookCount, int ID) {\n",
    "        this.title = title;\n",
    "        this.bookCount = bookCount;\n",
    "        this.ID = ID;\n",
    "       \n",
    "    }\n",
    "    @Override\n",
    "    public String toString(){\n",
    "        return \"Title: \"+ title+\"\\nID: \"+ ID;\n",
    "    }\n",
    "\n",
    "    public int getCount(){\n",
    "        return bookCount;\n",
    "    }       \n",
    "\n",
    "    void tester(){\n",
    "Book bookOne = new Book(\"Harry Potter\", 1, generateRandomID());\n",
    "Book bookTwo = new Book(\"Percy Jackson\", 2, generateRandomID());\n",
    "System.out.println(bookOne.toString());\n",
    "System.out.println(bookTwo.toString());\n",
    "books.add(bookOne);\n",
    "books.add(bookTwo);\n",
    "System.out.println(\"Books in libarary: \"+books.size());\n",
    "    }\n",
    "\n",
    "    int generateRandomID(){\n",
    "        int id = rand.nextInt(10000);\n",
    "        return id;\n",
    "    }\n",
    "\n",
    "\n",
    "    public static void main(String[] args) {\n",
    "        Book tester = new Book(\"Morts Guide to ChatGPT\", 4, 1);\n",
    "       // System.out.println(tester.toString());\n",
    "        tester.tester();\n",
    "        \n",
    "    }\n",
    "}\n",
    "Book.main(null);\n"
   ]
  }
 ],
 "metadata": {
  "kernelspec": {
   "display_name": "Java",
   "language": "java",
   "name": "java"
  },
  "language_info": {
   "codemirror_mode": "java",
   "file_extension": ".jshell",
   "mimetype": "text/x-java-source",
   "name": "Java",
   "pygments_lexer": "java",
   "version": "11.0.16.1+0"
  },
  "orig_nbformat": 4
 },
 "nbformat": 4,
 "nbformat_minor": 2
}
