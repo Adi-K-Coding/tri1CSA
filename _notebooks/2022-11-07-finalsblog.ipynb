{
 "cells": [
  {
   "cell_type": "markdown",
   "metadata": {},
   "source": [
    "# Finals Week Blog\n",
    "> Documentation of Trimester Long Blog\n",
    "\n",
    "- toc: true \n",
    "- badges: true\n",
    "- comments: true\n",
    "- categories: [jupyter]\n",
    "- image: images/chart-preview.png"
   ]
  },
  {
   "cell_type": "markdown",
   "metadata": {},
   "source": [
    "# MCQ Question Final + Corrections\n",
    "\n",
    "### Score:\n",
    "\n",
    "\n",
    "## Corrections\n",
    "\n",
    "### Question 8\n",
    "\n",
    "### Question 9\n",
    "\n",
    "### Question 8\n",
    "\n",
    "### Question 8\n",
    "\n",
    "### Question 8\n",
    "\n",
    "### Question 8\n",
    "\n",
    "### Question 8"
   ]
  }
 ],
 "metadata": {
  "kernelspec": {
   "display_name": "Java",
   "language": "java",
   "name": "java"
  },
  "language_info": {
   "name": "java"
  },
  "orig_nbformat": 4
 },
 "nbformat": 4,
 "nbformat_minor": 2
}
