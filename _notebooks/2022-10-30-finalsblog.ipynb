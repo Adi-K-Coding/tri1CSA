{
 "cells": [
  {
   "cell_type": "markdown",
   "metadata": {},
   "source": [
    "# Finals Week Blog\n",
    "> Documentation of Trimester Long Blog\n",
    "\n",
    "- toc: true \n",
    "- badges: true\n",
    "- comments: true\n",
    "- categories: [jupyter]\n",
    "- image: images/chart-preview.png"
   ]
  },
  {
   "cell_type": "markdown",
   "metadata": {},
   "source": [
    "# MCQ Question Final + Corrections\n",
    "![](file:///var/folders/s2/n6m30m5j2txdw50qzjxmwcmm0000gn/T/TemporaryItems/NSIRD_screencaptureui_P1gl9q/Screen%20Shot%202022-11-07%20at%208.52.43%20AM.png)\n"
   ]
  }
 ],
 "metadata": {
  "kernelspec": {
   "display_name": "Java",
   "language": "java",
   "name": "java"
  },
  "language_info": {
   "name": "java"
  },
  "orig_nbformat": 4
 },
 "nbformat": 4,
 "nbformat_minor": 2
}
