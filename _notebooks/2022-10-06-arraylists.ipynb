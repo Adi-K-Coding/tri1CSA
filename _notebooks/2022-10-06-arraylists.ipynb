{
 "cells": [
  {
   "cell_type": "markdown",
   "metadata": {},
   "source": [
    "# Arraylists\n",
    "> Documentation of Arraylists\n",
    "\n",
    "- toc: true \n",
    "- badges: true\n",
    "- comments: true\n",
    "- categories: [jupyter]\n",
    "- image: images/chart-preview.png"
   ]
  },
  {
   "cell_type": "markdown",
   "metadata": {},
   "source": [
    "First you have to import the java arraylist. This is done by:\n",
    "```java\n",
    "import java.util.ArrayList; \n",
    "```\n",
    "Then you can create the arraylist"
   ]
  },
  {
   "cell_type": "markdown",
   "metadata": {},
   "source": [
    "One of the best things about arraylists is that you can add and remove elements from the arraylist after you initialize it. This means that the length of the arraylist can change after you create it, unlike in arrays. "
   ]
  },
  {
   "cell_type": "code",
   "execution_count": 3,
   "metadata": {
    "vscode": {
     "languageId": "java"
    }
   },
   "outputs": [
    {
     "name": "stdout",
     "output_type": "stream",
     "text": [
      "Number of elements: 4\n",
      "Aadit\n",
      "Adi\n",
      "Soma\n",
      "Tianbin\n"
     ]
    }
   ],
   "source": [
    "import java.util.ArrayList; // import the ArrayList class\n",
    "\n",
    "ArrayList<String> names = new ArrayList<String>();\n",
    "names.add(\"Aadit\");\n",
    "names.add(\"Adi\");\n",
    "names.add(\"Soma\");\n",
    "names.add(\"Tianbin\");\n",
    "System.out.println(\"Number of elements: \" +names.size());//prints the number of elements in the arraylist\n",
    "\n",
    "for(int i = 0;i<names.size();i++){\n",
    "System.out.println(names.get(i));\n",
    "}\n",
    "\n"
   ]
  },
  {
   "cell_type": "markdown",
   "metadata": {},
   "source": [
    "# Accessing Elements\n",
    "To access an element in an arraylist, you use the get() method. Inside the method, put the index of element that you are trying to access(remember the arraylist starts at index 0)."
   ]
  },
  {
   "cell_type": "code",
   "execution_count": 14,
   "metadata": {
    "vscode": {
     "languageId": "java"
    }
   },
   "outputs": [
    {
     "name": "stdout",
     "output_type": "stream",
     "text": [
      "0\n",
      "1\n",
      "4\n",
      "9\n",
      "16\n",
      "25\n",
      "36\n",
      "49\n",
      "64\n",
      "81\n"
     ]
    }
   ],
   "source": [
    "ArrayList<Integer> nums = new ArrayList<Integer>();\n",
    "\n",
    "for(int i = 0;i<10;i++){\n",
    "    nums.add(i);\n",
    "    }\n",
    "\n",
    "\n",
    "for(int i = 0;i<nums.size();i++){\n",
    "    nums.set(i,i*i);\n",
    "    System.out.println(nums.get(i));\n",
    "}"
   ]
  },
  {
   "cell_type": "markdown",
   "metadata": {},
   "source": [
    "# Modifying Elements inside an Arraylist\n",
    "As shown above in the code block, "
   ]
  }
 ],
 "metadata": {
  "kernelspec": {
   "display_name": "Java",
   "language": "java",
   "name": "java"
  },
  "language_info": {
   "codemirror_mode": "java",
   "file_extension": ".jshell",
   "mimetype": "text/x-java-source",
   "name": "Java",
   "pygments_lexer": "java",
   "version": "11.0.16.1+0"
  },
  "orig_nbformat": 4,
  "vscode": {
   "interpreter": {
    "hash": "b0fa6594d8f4cbf19f97940f81e996739fb7646882a419484c72d19e05852a7e"
   }
  }
 },
 "nbformat": 4,
 "nbformat_minor": 2
}
