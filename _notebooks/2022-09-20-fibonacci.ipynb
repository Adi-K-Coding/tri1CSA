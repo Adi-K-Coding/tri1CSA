{
 "cells": [
  {
   "cell_type": "markdown",
   "metadata": {},
   "source": [
    "# Fibonacci\n",
    "> Documentation of Fibonacci Methods\n",
    "\n",
    "- toc: true \n",
    "- badges: true\n",
    "- comments: true\n",
    "- categories: [jupyter]\n",
    "- image: images/chart-preview.png"
   ]
  },
  {
   "cell_type": "code",
   "execution_count": 21,
   "metadata": {
    "vscode": {
     "languageId": "java"
    }
   },
   "outputs": [
    {
     "ename": "CompilationException",
     "evalue": "",
     "output_type": "error",
     "traceback": [
      "\u001b[1m\u001b[30m|   \u001b[1m\u001b[30m  public \u001b[0m\u001b[1m\u001b[30m\u001b[41m\u001b[0m\u001b[1m\u001b[30mFibo() {\u001b[0m",
      "\u001b[1m\u001b[31minvalid method declaration; return type required\u001b[0m",
      "",
      "\u001b[1m\u001b[30m|   \u001b[1m\u001b[30m  public \u001b[0m\u001b[1m\u001b[30m\u001b[41m\u001b[0m\u001b[1m\u001b[30mFibo(int nth) {\u001b[0m",
      "\u001b[1m\u001b[31minvalid method declaration; return type required\u001b[0m",
      ""
     ]
    }
   ],
   "source": [
    "import javax.swing.JOptionPane;\n",
    "\n",
    "public class FiboFor extends Fibo{\n",
    "\n",
    "\n",
    "  public FiboFor() {\n",
    "    super();\n",
    "}\n",
    "  \n",
    "  public FiboFor(int nth) {\n",
    "    //initialize fibonacci and time mvc\n",
    "    this.init(nth);\n",
    "}\n",
    "\n",
    "@Override\n",
    "protected void init() {\n",
    "  String inpStr = JOptionPane.showInputDialog(\"How many fibonacci numbers would you like to print\");\n",
    "  int intNum = Integer.parseInt(inpStr);\n",
    "  int firstNum = 0;\n",
    "  int secondNum = 1;\n",
    "\n",
    "  for (int i = 1; i <= intNum; i++) {\n",
    "    System.out.print(firstNum + \", \");\n",
    "    int nextNum = firstNum + secondNum;\n",
    "    firstNum = secondNum;\n",
    "    secondNum = nextNum;\n",
    "  }\n",
    "}\n",
    "    public static void main(String[] args) {\n",
    "      FiboFor fib = new FiboFor();\n",
    "      \n",
    "    }\n",
    "}\n",
    "\n",
    "FiboFor.main(null);"
   ]
  },
  {
   "cell_type": "code",
   "execution_count": 32,
   "metadata": {
    "vscode": {
     "languageId": "java"
    }
   },
   "outputs": [
    {
     "ename": "CompilationException",
     "evalue": "",
     "output_type": "error",
     "traceback": [
      "\u001b[1m\u001b[30m|   \u001b[1m\u001b[30m        \u001b[0m\u001b[1m\u001b[30m\u001b[41m\u001b[0m\u001b[1m\u001b[30mpublic void init(){\u001b[0m",
      "\u001b[1m\u001b[31millegal start of expression\u001b[0m",
      ""
     ]
    }
   ],
   "source": [
    "public class Fibo {\n",
    "    public Fibo() {\n",
    "        int firstNum = 0;\n",
    "        int secondNum = 1;\n",
    "        public void init(){\n",
    "            System.out.println(\"It works\");\n",
    "        }\n",
    "    }\n",
    "\n",
    "}\n",
    "\n",
    "\n",
    "public class FiboFor extends Fibo{\n",
    "   \n",
    "\n",
    "    public FiboFor() {\n",
    "        this.init();\n",
    "\n",
    "    }\n",
    "\n",
    "    @Override\n",
    "    protected void init() {\n",
    "        String inpStr = JOptionPane.showInputDialog(\"How many fibonacci numbers would you like to print\");\n",
    "        int intNum = Integer.parseInt(inpStr);\n",
    "        int firstNum = 0;\n",
    "        int secondNum = 1;\n",
    "\n",
    "        for (int i = 1; i <= intNum; i++) {\n",
    "            System.out.print(firstNum + \", \");\n",
    "            int nextNum = firstNum + secondNum;\n",
    "            firstNum = secondNum;\n",
    "            secondNum = nextNum;\n",
    "        }\n",
    "    }\n",
    "}\n"
   ]
  },
  {
   "cell_type": "code",
   "execution_count": null,
   "metadata": {
    "vscode": {
     "languageId": "java"
    }
   },
   "outputs": [],
   "source": [
    "public class Fibo {\n",
    "    String name;  // name or title of method\n",
    "    int size;  // nth sequence\n",
    "    \n",
    "\n",
    "    /*\n",
    "     Zero parameter constructor uses Telescoping technique to allow setting of the required value nth\n",
    "     @param: none\n",
    "     */\n",
    "    public Fibo() {\n",
    "        this(20); // telescope to avoid code duplication, using default as 20\n",
    "    }\n",
    "\n",
    "    /*\n",
    "     Construct the nth fibonacci number\n",
    "     @param: nth number, the value is constrained to 92 because of overflow in a long\n",
    "     */\n",
    "    public Fibo(int nth) {\n",
    "        this.size = nth;\n",
    "        //initialize fibonacci and time mvc\n",
    "        this.init();\n",
    "    }\n",
    "\n",
    "    /*\n",
    "     This Method should be \"abstract\"\n",
    "     Leave method as protected, as it is only authorized to extender of the class\n",
    "     Make new class that extends and defines init()\n",
    "     Inside references within this class would change from this to super\n",
    "     Repeat process using for, while, recursion\n",
    "     */\n",
    "    protected void init() {\n",
    "        \n",
    "    }\n",
    "}"
   ]
  },
  {
   "cell_type": "code",
   "execution_count": 8,
   "metadata": {
    "vscode": {
     "languageId": "java"
    }
   },
   "outputs": [
    {
     "name": "stdout",
     "output_type": "stream",
     "text": [
      "0, "
     ]
    }
   ],
   "source": [
    "import javax.swing.JOptionPane;\n",
    "\n",
    "public class FiboWhile {\n",
    "    public static void main(String[] args) {\n",
    "        int start = 1;\n",
    "        String input = JOptionPane.showInputDialog(\"How many fibonacci numbers would you like to print\");\n",
    "        int end = Integer.parseInt(input);\n",
    "        int firstNum = 0;\n",
    "        int secondNum = 1;\n",
    "\n",
    "    while (start <= end) {\n",
    "      System.out.print(firstNum + \", \");\n",
    "      int nextNum = firstNum + secondNum;\n",
    "      firstNum = secondNum;\n",
    "      secondNum = nextNum;\n",
    "      start++;\n",
    "    }\n",
    "    }\n",
    "}\n",
    "\n",
    "FiboWhile.main(null);"
   ]
  },
  {
   "cell_type": "code",
   "execution_count": 1,
   "metadata": {
    "vscode": {
     "languageId": "java"
    }
   },
   "outputs": [
    {
     "name": "stdout",
     "output_type": "stream",
     "text": [
      "0, 1, 1, 2, 3, 5, 8, 13, 21, 34, 55, 89, 144, 233, 377, 610, 987, 1597, 2584, 4181, "
     ]
    },
    {
     "ename": "",
     "evalue": "",
     "output_type": "error",
     "traceback": [
      "The Kernel crashed while executing code in the the current cell or a previous cell. Please review the code in the cell(s) to identify a possible cause of the failure. Click <a href='https://aka.ms/vscodeJupyterKernelCrash'>here</a> for more info. View Jupyter <a href='command:jupyter.viewOutput'>log</a> for further details."
     ]
    }
   ],
   "source": [
    "import javax.swing.JOptionPane;\n",
    "\n",
    "public class FiboRecursion{\n",
    "    public static int fibRecursion(int n){\n",
    "        if(n == 0){\n",
    "            //deals with case if initial input was 0\n",
    "            return 0;\n",
    "        }\n",
    "        if(n == 1 || n == 2){\n",
    "            //deals with case if initial input was 1 or 2, which will return 1\n",
    "            return 1; \n",
    "        }\n",
    "        return fibRecursion(n-2) + fibRecursion(n-1);\n",
    "    }\n",
    "\n",
    "    public static void main(String args[]) {\n",
    "        String strInp = JOptionPane.showInputDialog(\"How many fibonacci numbers would you like to print\");\n",
    "        int endNumber = Integer.parseInt(strInp);\n",
    "        for(int i = 0; i < endNumber; i++){\n",
    "            System.out.print(fibRecursion(i) +\", \");\n",
    "        }\n",
    "    }\n",
    "}\n",
    "\n",
    "FiboRecursion.main(null);"
   ]
  }
 ],
 "metadata": {
  "kernelspec": {
   "display_name": "Java",
   "language": "java",
   "name": "java"
  },
  "language_info": {
   "codemirror_mode": "java",
   "file_extension": ".jshell",
   "mimetype": "text/x-java-source",
   "name": "Java",
   "pygments_lexer": "java",
   "version": "17.0.4+8"
  },
  "orig_nbformat": 4,
  "vscode": {
   "interpreter": {
    "hash": "b0fa6594d8f4cbf19f97940f81e996739fb7646882a419484c72d19e05852a7e"
   }
  }
 },
 "nbformat": 4,
 "nbformat_minor": 2
}
