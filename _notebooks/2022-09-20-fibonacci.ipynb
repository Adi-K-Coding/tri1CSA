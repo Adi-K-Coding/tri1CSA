{
 "cells": [
  {
   "cell_type": "markdown",
   "metadata": {},
   "source": [
    "# Fibonacci\n",
    "> Documentation of Fibonacci Methods\n",
    "\n",
    "- toc: true \n",
    "- badges: true\n",
    "- comments: true\n",
    "- categories: [jupyter]\n",
    "- image: images/chart-preview.png"
   ]
  },
  {
   "cell_type": "code",
   "execution_count": 10,
   "metadata": {
    "vscode": {
     "languageId": "java"
    }
   },
   "outputs": [
    {
     "name": "stdout",
     "output_type": "stream",
     "text": [
      "0, 1, 1, 2, 3, 5, 8, 13, 21, 34, 55, 89, 144, 233, 377, 610, 987, 1597, 2584, 4181, "
     ]
    }
   ],
   "source": [
    "import javax.swing.JOptionPane;\n",
    "\n",
    "public class FiboFor {\n",
    "    public static void main(String[] args) {\n",
    "      String inpStr = JOptionPane.showInputDialog(\"How many fibonacci numbers would you like to print\");\n",
    "      int intNum = Integer.parseInt(inpStr);\n",
    "      int firstNum = 0;\n",
    "      int secondNum = 1;\n",
    "  \n",
    "      for (int i = 1; i <= intNum; i++) {\n",
    "        System.out.print(firstNum + \", \");\n",
    "        int nextNum = firstNum + secondNum;\n",
    "        firstNum = secondNum;\n",
    "        secondNum = nextNum;\n",
    "      }\n",
    "    }\n",
    "}\n",
    "\n",
    "FiboFor.main(null);"
   ]
  },
  {
   "cell_type": "code",
   "execution_count": 8,
   "metadata": {
    "vscode": {
     "languageId": "java"
    }
   },
   "outputs": [
    {
     "name": "stdout",
     "output_type": "stream",
     "text": [
      "0, "
     ]
    }
   ],
   "source": [
    "import javax.swing.JOptionPane;\n",
    "\n",
    "public class FiboWhile {\n",
    "    public static void main(String[] args) {\n",
    "        int start = 1;\n",
    "        String input = JOptionPane.showInputDialog(\"How many fibonacci numbers would you like to print\");\n",
    "        int end = Integer.parseInt(input);\n",
    "        int firstNum = 0;\n",
    "        int secondNum = 1;\n",
    "\n",
    "    while (start <= end) {\n",
    "      System.out.print(firstNum + \", \");\n",
    "      int nextNum = firstNum + secondNum;\n",
    "      firstNum = secondNum;\n",
    "      secondNum = nextNum;\n",
    "      start++;\n",
    "    }\n",
    "    }\n",
    "}\n",
    "\n",
    "FiboWhile.main(null);"
   ]
  },
  {
   "cell_type": "code",
   "execution_count": 13,
   "metadata": {
    "vscode": {
     "languageId": "java"
    }
   },
   "outputs": [
    {
     "name": "stdout",
     "output_type": "stream",
     "text": [
      "Fibonacci Series of 10 numbers: 0 1 1 2 3 5 8 13 21 34 "
     ]
    }
   ],
   "source": [
    "public class FiboRecursion{\n",
    "    public static int fibRecursion(int n){\n",
    "        if(n == 0){\n",
    "            //deals with case if initial input was 0\n",
    "            return 0;\n",
    "        }\n",
    "        if(n == 1 || n == 2){\n",
    "            //deals with case if initial input was 1 or 2, which will return 1\n",
    "            return 1; \n",
    "        }\n",
    "        return fibRecursion(n-2) + fibRecursion(n-1);\n",
    "    }\n",
    "\n",
    "    public static void main(String args[]) {\n",
    "        String strInp = JOptionPane.showInputDialog(\"How many fibonacci numbers would you like to print\");\n",
    "        int endNumber = Integer.parseInt(strInp);\n",
    "        for(int i = 0; i < endNumber; i++){\n",
    "            System.out.print(fibRecursion(i) +\", \");\n",
    "        }\n",
    "    }\n",
    "}\n",
    "\n",
    "FiboRecursion.main(null);"
   ]
  }
 ],
 "metadata": {
  "kernelspec": {
   "display_name": "Java",
   "language": "java",
   "name": "java"
  },
  "language_info": {
   "codemirror_mode": "java",
   "file_extension": ".jshell",
   "mimetype": "text/x-java-source",
   "name": "Java",
   "pygments_lexer": "java",
   "version": "17.0.4+8"
  },
  "orig_nbformat": 4,
  "vscode": {
   "interpreter": {
    "hash": "b0fa6594d8f4cbf19f97940f81e996739fb7646882a419484c72d19e05852a7e"
   }
  }
 },
 "nbformat": 4,
 "nbformat_minor": 2
}
