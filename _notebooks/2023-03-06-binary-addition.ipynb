{
 "cells": [
  {
   "cell_type": "markdown",
   "metadata": {},
   "source": [
    "# Extra Seed Point\n",
    "> Documentation of the extra credit seed point\n",
    "\n",
    "- toc: true \n",
    "- badges: true\n",
    "- comments: true\n",
    "- categories: [jupyter]\n",
    "- image: images/chart-preview.png"
   ]
  },
  {
   "cell_type": "code",
   "execution_count": 2,
   "metadata": {},
   "outputs": [
    {
     "ename": "",
     "evalue": "",
     "output_type": "error",
     "traceback": [
      "The Kernel crashed while executing code in the the current cell or a previous cell. Please review the code in the cell(s) to identify a possible cause of the failure. Click <a href='https://aka.ms/vscodeJupyterKernelCrash'>here</a> for more info. View Jupyter <a href='command:jupyter.viewOutput'>log</a> for further details."
     ]
    }
   ],
   "source": [
    "import javax.swing.JOptionPane;\n",
    "\n",
    "public class BinaryAddition{\n",
    "\t\n",
    "\n",
    "    public static void main(String[] args) {\n",
    "    \tBinaryAddition bc = new BinaryAddition();\n",
    "    \tbc.run();\n",
    "        int binaryNum = 0b1001;\n",
    "        int decimalNum = 1001;\n",
    "        \n",
    "        \n",
    "    }\n",
    "    void run() {\n",
    "    String input1 = JOptionPane.showInputDialog(\"Enter first number in binary\");\n",
    "    String input2 = JOptionPane.showInputDialog(\"Enter second number in binary\");\n",
    "    int inp1 = convertBinaryStringToDecimalInt(input1);\n",
    "    int inp2 = convertBinaryStringToDecimalInt(input2);\n",
    "    int total = inp1+inp2;\n",
    "    String totalStr = convertDecimalToBinary(total);\n",
    "    JOptionPane.showMessageDialog(null, input1 +\" plus \"+ input2+ \" equals \" + totalStr);\n",
    "    //System.out.println(input1 +\" plus \"+ input2+ \" equals \" + totalStr);\n",
    "    }\n",
    "\n",
    "\n",
    "    public static String convertDecimalToBinary(int decimalNum) {\n",
    "        String binaryStr = \"\";\n",
    "\n",
    "        do {\n",
    "            // 1. Logical right shift by 1\n",
    "            int quotient = decimalNum >>> 1;\n",
    "\n",
    "            // 2. Check remainder and add '1' or '0'\n",
    "            if( decimalNum % 2 != 0 ){\n",
    "                binaryStr = '1' + binaryStr;\n",
    "            } else {\n",
    "                binaryStr = '0' + binaryStr;\n",
    "            }\n",
    "\n",
    "            decimalNum = quotient;\n",
    "\n",
    "            // 3. Repeat until number is 0\n",
    "        } while( decimalNum != 0 );\n",
    "\n",
    "        return binaryStr;\n",
    "    }\n",
    "\n",
    "\n",
    "    int convertBinaryStringToDecimalInt(String binStr) {\n",
    "        int total = 0;\n",
    "        int length = binStr.length();\n",
    "        for(int i = length-1; i>=0;i--) {\n",
    "            if(binStr.charAt(i)=='1') {\n",
    "                total+= Math.pow((double)2, (double)(length-1-i));\n",
    "            }\n",
    "        }\n",
    "        return total;\n",
    "    }\n",
    "}\n",
    "BinaryAddition.main(null);"
   ]
  }
 ],
 "metadata": {
  "kernelspec": {
   "display_name": "Java",
   "language": "java",
   "name": "java"
  },
  "language_info": {
   "codemirror_mode": "java",
   "file_extension": ".jshell",
   "mimetype": "text/x-java-source",
   "name": "java",
   "pygments_lexer": "java",
   "version": "11.0.16.1+0"
  },
  "orig_nbformat": 4
 },
 "nbformat": 4,
 "nbformat_minor": 2
}
