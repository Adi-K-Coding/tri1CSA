{
 "cells": [
  {
   "cell_type": "markdown",
   "metadata": {},
   "source": [
    "# 2D Iterations and Repetition\n",
    "> Documentation of if else lesson\n",
    "\n",
    "- toc: true \n",
    "- badges: true\n",
    "- comments: true\n",
    "- categories: [jupyter]\n",
    "- image: images/chart-preview.png"
   ]
  },
  {
   "cell_type": "markdown",
   "metadata": {},
   "source": [
    "# 2D Arrays\n",
    "A 2D array is an array of arrays, and a type of multidimensional array. To create a 2D array, you write the type of the class, followed by the name, and the values. \n",
    "### Creating A 2D Array\n",
    "The first step is to initialize the array. To do this, specify the type, followed by \"[][]\", followed by the name of the 2D array.\n",
    "Examples:"
   ]
  },
  {
   "cell_type": "code",
   "execution_count": 18,
   "metadata": {
    "vscode": {
     "languageId": "java"
    }
   },
   "outputs": [],
   "source": [
    "int[][] numbers;\n",
    "String[][] names;\n",
    "char[][] letters;"
   ]
  },
  {
   "cell_type": "markdown",
   "metadata": {},
   "source": [
    "### Initializing a 2D Array\n",
    "Then you must give it a value, by initializing the 2D array. \n",
    "There are two ways to initialize a 2D array.\n",
    "  Method 1: You can initialize the array by giving it values\n",
    "  Method 2: You can also initialize it by giving it the size"
   ]
  },
  {
   "cell_type": "code",
   "execution_count": 22,
   "metadata": {
    "vscode": {
     "languageId": "java"
    }
   },
   "outputs": [],
   "source": [
    "int[][] numbers1 = {{1,2,3,4},{5,6,7,8},{9,10,11,12},{13,14,15,16}};//method 1:\n",
    "int[][] numbers2 = new int[4][3]; //method 2: Creates array with four rows and 3 columns \n",
    "String[][] names1 = {{\"John\",\"James\",\"Jay\"},{\"Melissa\",\"May\",\"Maggie\"},{\"Bob\",\"Burt\",\"Billy\"}}; //method 1\n",
    "String[][] names2 = new String[2][2]; //method2: Creates array with 2 rows and 2 columns\n",
    "char[][] letters1 = {{'a','b','c'},{'d','e','f','g','h'}}; //method 1\n",
    "char[][] letters2 = new char[2][3]; //method 2: Creates array with 2 rows and 3 columns"
   ]
  },
  {
   "cell_type": "markdown",
   "metadata": {},
   "source": [
    "Note, that when you initialize a 2D array using method 1, each row can have a different number of columns, ie, each array within the array can have a different number of values. "
   ]
  },
  {
   "cell_type": "markdown",
   "metadata": {},
   "source": [
    "### Iteration\n",
    "To iterate through a normal array, you would could use a for loop, as demonstrated below to print the alphabet. You would iterate through the first array(row), then use another for loop nested within the first that iterates through the second arrays(columns). "
   ]
  },
  {
   "cell_type": "code",
   "execution_count": 17,
   "metadata": {
    "vscode": {
     "languageId": "java"
    }
   },
   "outputs": [
    {
     "name": "stdout",
     "output_type": "stream",
     "text": [
      "1 2 3 4 5 6 7 8 9 0 - =  \n",
      "q w e r t y u i o p [ ] \\  \n",
      "a s d f g h j k l  \n",
      "z x c v b n m , . /  \n"
     ]
    }
   ],
   "source": [
    "String[][] alphabet = {{\"1\", \"2\", \"3\", \"4\", \"5\", \"6\", \"7\", \"8\", \"9\", \"0\", \"-\", \"=\"},\n",
    "{\"q\", \"w\", \"e\", \"r\", \"t\", \"y\", \"u\", \"i\", \"o\", \"p\", \"[\", \"]\", \"\\\\\"},\n",
    "{\"a\", \"s\", \"d\", \"f\", \"g\", \"h\", \"j\", \"k\", \"l\"},\n",
    "{\"z\", \"x\", \"c\", \"v\", \"b\", \"n\", \"m\", \",\", \".\", \"/\"}};\n",
    "for(int i = 0;i<alphabet.length;i++){\n",
    "    for(int j = 0; j < alphabet[i].length;j++){ //nested for loops\n",
    "        System.out.print(alphabet[i][j]+\" \");\n",
    "    }\n",
    "    System.out.println(\" \");\n",
    "}"
   ]
  },
  {
   "cell_type": "markdown",
   "metadata": {},
   "source": [
    "In this way, you can print all the values of a certain 2D array. "
   ]
  },
  {
   "cell_type": "markdown",
   "metadata": {},
   "source": [
    "# Accessing and Changing Elements of 2D Arrays\n",
    "You can change elements or access elements in 2D arrays by using the indexes. For example, to access the 2nd row, and 3 column, use [1][2]"
   ]
  },
  {
   "cell_type": "code",
   "execution_count": 25,
   "metadata": {
    "vscode": {
     "languageId": "java"
    }
   },
   "outputs": [
    {
     "name": "stdout",
     "output_type": "stream",
     "text": [
      "1 4  \n",
      "9 16  \n"
     ]
    }
   ],
   "source": [
    "int[][] numbers = new int[2][2]; //method 2: Creates array with two rows and two columns\n",
    "numbers[0][0] = 1;\n",
    "numbers[0][1] = 4;\n",
    "numbers[1][0] = 9;\n",
    "numbers[1][1] = 16;\n",
    "for(int i = 0;i<numbers.length;i++){\n",
    "    for(int j = 0; j < numbers[i].length;j++){ //nested for loops\n",
    "        System.out.print(numbers[i][j]+\" \");\n",
    "    }\n",
    "    System.out.println(\" \");\n",
    "}"
   ]
  }
 ],
 "metadata": {
  "kernelspec": {
   "display_name": "Java",
   "language": "java",
   "name": "java"
  },
  "language_info": {
   "codemirror_mode": "java",
   "file_extension": ".jshell",
   "mimetype": "text/x-java-source",
   "name": "Java",
   "pygments_lexer": "java",
   "version": "17.0.4+8"
  },
  "orig_nbformat": 4
 },
 "nbformat": 4,
 "nbformat_minor": 2
}
