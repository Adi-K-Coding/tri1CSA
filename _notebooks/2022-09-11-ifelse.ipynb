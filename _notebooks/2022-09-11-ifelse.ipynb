{
 "cells": [
  {
   "cell_type": "markdown",
   "metadata": {},
   "source": [
    "# If Else Statements\n",
    "> Documentation of if else lesson\n",
    "\n",
    "- toc: true \n",
    "- badges: true\n",
    "- comments: true\n",
    "- categories: [jupyter]\n",
    "- image: images/chart-preview.png"
   ]
  },
  {
   "cell_type": "markdown",
   "metadata": {},
   "source": [
    "## What is an If Statement\n",
    "If statements are blocks of code that allow you to make decisions in your code. They allow you to test for different conditions, and run code depending on the output of those conditions. If the statement that is put into an if is true, it will execute the code in the block, if it is not true, it will run the code in the else block. \n"
   ]
  },
  {
   "cell_type": "code",
   "execution_count": null,
   "metadata": {
    "vscode": {
     "languageId": "java"
    }
   },
   "outputs": [],
   "source": [
    "if(condition) {\n",
    "    // code block that will run if condition being tested for is true\n",
    "} else {\n",
    "    // code block for that will run if condition being tested for is not true(false)\n",
    "}"
   ]
  },
  {
   "cell_type": "markdown",
   "metadata": {},
   "source": [
    "## Else If\n",
    "Else ifs allow you to add multiple cases that can be true, rather than just the conventional if and else blocks. "
   ]
  },
  {
   "cell_type": "code",
   "execution_count": null,
   "metadata": {
    "vscode": {
     "languageId": "java"
    }
   },
   "outputs": [],
   "source": [
    "if (condition) {\n",
    "    // runs if condition 1 is true\n",
    "} else if (condition2) {\n",
    "    // runs if condition 2 is true\n",
    "}else if (condition 3) {\n",
    "    // runs if condition 3 is true\n",
    "} else {\n",
    "    // runs if none of the above code blocks evaluate to true\n",
    "}"
   ]
  },
  {
   "cell_type": "markdown",
   "metadata": {},
   "source": [
    "## If Else and Switch Statements\n",
    "You can also use something called a switch statements, which takes different cases, similar to how an if- if else- else statement works. \n"
   ]
  },
  {
   "cell_type": "code",
   "execution_count": 3,
   "metadata": {
    "vscode": {
     "languageId": "java"
    }
   },
   "outputs": [
    {
     "name": "stdout",
     "output_type": "stream",
     "text": [
      "Random number was 3\n"
     ]
    }
   ],
   "source": [
    "import java.util.Random;\n",
    "\n",
    "public class IfStatement {\n",
    "    public static void main(String[] args) {\n",
    "        //Created random and getting random number\n",
    "        Random rand = new Random();\n",
    "        int randNum =  rand.nextInt(10);\n",
    "        if (randNum == 0) {\n",
    "            //If number is 0, this block executes\n",
    "            System.out.println(\"Random number was 0\");\n",
    "        } else if (randNum == 1) {\n",
    "            //If number is 1, this block executes\n",
    "            System.out.println(\"Random number was 1\");\n",
    "        } else if (randNum == 2) {\n",
    "            //If number is 2, this block executes\n",
    "            System.out.println(\"Random number was 2\");\n",
    "        } else if (randNum == 3) {\n",
    "            //If number is 3, this block executes\n",
    "            System.out.println(\"Random number was 3\");\n",
    "        } else if (randNum == 4) {\n",
    "            //If number is 4, this block executes\n",
    "            System.out.println(\"Random number was 4\");\n",
    "        } else if (randNum == 5) {\n",
    "            //If number is 5, this block executes\n",
    "            System.out.println(\"Random number was 5\");\n",
    "        } else {\n",
    "            //If none of the above conditions are true, this block will execute\n",
    "            System.out.println(\"Random number was not 1-5\");\n",
    "        }\n",
    "    }\n",
    "}\n",
    "\n",
    "\n",
    "IfStatement.main(null);"
   ]
  },
  {
   "cell_type": "markdown",
   "metadata": {},
   "source": [
    "Same code, but with a switch statement"
   ]
  },
  {
   "cell_type": "code",
   "execution_count": 5,
   "metadata": {
    "vscode": {
     "languageId": "java"
    }
   },
   "outputs": [
    {
     "name": "stdout",
     "output_type": "stream",
     "text": [
      "Random number was 4\n"
     ]
    }
   ],
   "source": [
    "import java.util.Random;\n",
    "\n",
    "public class SwitchStatement {\n",
    "    public static void main(String[] args) {\n",
    "        //Created random and getting random number\n",
    "        Random rand = new Random();\n",
    "        int randNum =  rand.nextInt(10);\n",
    "        switch (randNum){\n",
    "            case 0:\n",
    "                //If case is 0, this block executes\n",
    "                System.out.println(\"Random number was 0\");\n",
    "                break;\n",
    "            case 1:\n",
    "                //If case is 1, this block executes\n",
    "                System.out.println(\"Random number was 1\");\n",
    "                break;\n",
    "            case 2:\n",
    "                //If case is 2, this block executes\n",
    "                System.out.println(\"Random number was 2\");\n",
    "                break;\n",
    "            case 3:\n",
    "                //If case is 3, this block executes\n",
    "                System.out.println(\"Random number was 3\");\n",
    "                break;\n",
    "            case 4:\n",
    "                //If case is 4, this block executes\n",
    "                System.out.println(\"Random number was 4\");\n",
    "                break;\n",
    "            case 5:\n",
    "                //If case is 5, this block executes\n",
    "                System.out.println(\"Random number was 5\");\n",
    "                break;\n",
    "            default:\n",
    "                //This block is similar to else statement, is the default operation\n",
    "                System.out.println(\"Random number was not 1-5\");\n",
    "        }\n",
    "    }\n",
    "}\n",
    "\n",
    "\n",
    "SwitchStatement.main(null);"
   ]
  },
  {
   "cell_type": "markdown",
   "metadata": {},
   "source": [
    "## De Morgan's Law\n",
    "De Morgan's Law is a concept that shows that concepts in mathematics are related through their opposites. For example:\n",
    "#### not (A and B) -- not A or not B\n",
    "#### not (A or B) -- not A and not B\n"
   ]
  },
  {
   "cell_type": "code",
   "execution_count": null,
   "metadata": {
    "vscode": {
     "languageId": "java"
    }
   },
   "outputs": [],
   "source": [
    "!(a && b) == (!a || !b)\n",
    "!(a || b) == (!a && !b)"
   ]
  },
  {
   "cell_type": "code",
   "execution_count": 7,
   "metadata": {
    "vscode": {
     "languageId": "java"
    }
   },
   "outputs": [],
   "source": [
    "if(!(true)&&(true==false)){\n",
    "    System.out.println(\"Demonstrates De Morgans law\");\n",
    "}"
   ]
  }
 ],
 "metadata": {
  "kernelspec": {
   "display_name": "Java",
   "language": "java",
   "name": "java"
  },
  "language_info": {
   "codemirror_mode": "java",
   "file_extension": ".jshell",
   "mimetype": "text/x-java-source",
   "name": "Java",
   "pygments_lexer": "java",
   "version": "17.0.4+8"
  },
  "orig_nbformat": 4,
  "vscode": {
   "interpreter": {
    "hash": "b0fa6594d8f4cbf19f97940f81e996739fb7646882a419484c72d19e05852a7e"
   }
  }
 },
 "nbformat": 4,
 "nbformat_minor": 2
}
