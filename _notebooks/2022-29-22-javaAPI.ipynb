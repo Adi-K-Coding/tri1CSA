{
 "cells": [
  {
   "cell_type": "markdown",
   "metadata": {},
   "source": [
    "# Java API\n",
    "> Documentation of Java API's\n",
    "\n",
    "- toc: true \n",
    "- badges: true\n",
    "- comments: true\n",
    "- categories: [jupyter]\n",
    "- image: images/chart-preview.png"
   ]
  },
  {
   "cell_type": "code",
   "execution_count": 7,
   "metadata": {
    "vscode": {
     "languageId": "java"
    }
   },
   "outputs": [
    {
     "name": "stdout",
     "output_type": "stream",
     "text": [
      "{\"message\":\"NFL Scheduled games\",\"data\":[{\"date\":\"2022-10-04T00:15Z\",\"venue\":\"Levi's Stadium\",\"name\":\"Los Angeles Rams at San Francisco 49ers\",\"shortName\":\"LAR @ SF\",\"awayTeam\":{\"name\":\"Rams\",\"score\":\"0\"},\"homeTeam\":{\"name\":\"49ers\",\"score\":\"0\"}},{\"date\":\"2022-09-30T00:15Z\",\"venue\":\"Paycor Stadium\",\"name\":\"Miami Dolphins at Cincinnati Bengals\",\"shortName\":\"MIA @ CIN\",\"awayTeam\":{\"name\":\"Dolphins\",\"score\":\"15\"},\"homeTeam\":{\"name\":\"Bengals\",\"score\":\"27\"}},{\"date\":\"2022-10-02T13:30Z\",\"venue\":\"Tottenham Hotspur Stadium\",\"name\":\"Minnesota Vikings at New Orleans Saints\",\"shortName\":\"MIN @ NO\",\"awayTeam\":{\"name\":\"Vikings\",\"score\":\"28\"},\"homeTeam\":{\"name\":\"Saints\",\"score\":\"25\"}},{\"date\":\"2022-10-02T17:00Z\",\"venue\":\"Mercedes-Benz Stadium\",\"name\":\"Cleveland Browns at Atlanta Falcons\",\"shortName\":\"CLE @ ATL\",\"awayTeam\":{\"name\":\"Browns\",\"score\":\"20\"},\"homeTeam\":{\"name\":\"Falcons\",\"score\":\"23\"}},{\"date\":\"2022-10-02T17:00Z\",\"venue\":\"AT&T Stadium\",\"name\":\"Washington Commanders at Dallas Cowboys\",\"shortName\":\"WSH @ DAL\",\"awayTeam\":{\"name\":\"Commanders\",\"score\":\"10\"},\"homeTeam\":{\"name\":\"Cowboys\",\"score\":\"25\"}},{\"date\":\"2022-10-02T17:00Z\",\"venue\":\"Ford Field\",\"name\":\"Seattle Seahawks at Detroit Lions\",\"shortName\":\"SEA @ DET\",\"awayTeam\":{\"name\":\"Seahawks\",\"score\":\"48\"},\"homeTeam\":{\"name\":\"Lions\",\"score\":\"45\"}},{\"date\":\"2022-10-02T17:00Z\",\"venue\":\"Lucas Oil Stadium\",\"name\":\"Tennessee Titans at Indianapolis Colts\",\"shortName\":\"TEN @ IND\",\"awayTeam\":{\"name\":\"Titans\",\"score\":\"24\"},\"homeTeam\":{\"name\":\"Colts\",\"score\":\"17\"}},{\"date\":\"2022-10-02T17:00Z\",\"venue\":\"MetLife Stadium\",\"name\":\"Chicago Bears at New York Giants\",\"shortName\":\"CHI @ NYG\",\"awayTeam\":{\"name\":\"Bears\",\"score\":\"12\"},\"homeTeam\":{\"name\":\"Giants\",\"score\":\"20\"}},{\"date\":\"2022-10-02T17:00Z\",\"venue\":\"Lincoln Financial Field\",\"name\":\"Jacksonville Jaguars at Philadelphia Eagles\",\"shortName\":\"JAX @ PHI\",\"awayTeam\":{\"name\":\"Jaguars\",\"score\":\"21\"},\"homeTeam\":{\"name\":\"Eagles\",\"score\":\"29\"}},{\"date\":\"2022-10-02T17:00Z\",\"venue\":\"Acrisure Stadium\",\"name\":\"New York Jets at Pittsburgh Steelers\",\"shortName\":\"NYJ @ PIT\",\"awayTeam\":{\"name\":\"Jets\",\"score\":\"24\"},\"homeTeam\":{\"name\":\"Steelers\",\"score\":\"20\"}},{\"date\":\"2022-10-02T17:00Z\",\"venue\":\"M&T Bank Stadium\",\"name\":\"Buffalo Bills at Baltimore Ravens\",\"shortName\":\"BUF @ BAL\",\"awayTeam\":{\"name\":\"Bills\",\"score\":\"23\"},\"homeTeam\":{\"name\":\"Ravens\",\"score\":\"20\"}},{\"date\":\"2022-10-02T17:00Z\",\"venue\":\"NRG Stadium\",\"name\":\"Los Angeles Chargers at Houston Texans\",\"shortName\":\"LAC @ HOU\",\"awayTeam\":{\"name\":\"Chargers\",\"score\":\"34\"},\"homeTeam\":{\"name\":\"Texans\",\"score\":\"24\"}},{\"date\":\"2022-10-02T20:05Z\",\"venue\":\"Bank of America Stadium\",\"name\":\"Arizona Cardinals at Carolina Panthers\",\"shortName\":\"ARI @ CAR\",\"awayTeam\":{\"name\":\"Cardinals\",\"score\":\"26\"},\"homeTeam\":{\"name\":\"Panthers\",\"score\":\"16\"}},{\"date\":\"2022-10-02T20:25Z\",\"venue\":\"Lambeau Field\",\"name\":\"New England Patriots at Green Bay Packers\",\"shortName\":\"NE @ GB\",\"awayTeam\":{\"name\":\"Patriots\",\"score\":\"24\"},\"homeTeam\":{\"name\":\"Packers\",\"score\":\"27\"}},{\"date\":\"2022-10-02T20:25Z\",\"venue\":\"Allegiant Stadium\",\"name\":\"Denver Broncos at Las Vegas Raiders\",\"shortName\":\"DEN @ LV\",\"awayTeam\":{\"name\":\"Broncos\",\"score\":\"23\"},\"homeTeam\":{\"name\":\"Raiders\",\"score\":\"32\"}},{\"date\":\"2022-10-03T00:20Z\",\"venue\":\"Raymond James Stadium\",\"name\":\"Kansas City Chiefs at Tampa Bay Buccaneers\",\"shortName\":\"KC @ TB\",\"awayTeam\":{\"name\":\"Chiefs\",\"score\":\"41\"},\"homeTeam\":{\"name\":\"Buccaneers\",\"score\":\"31\"}}]}\n"
     ]
    }
   ],
   "source": [
    "import java.net.URI;\n",
    "import java.net.http.HttpClient;\n",
    "import java.net.http.HttpRequest;\n",
    "import java.net.http.HttpResponse;\n",
    "\n",
    "HttpRequest request = HttpRequest.newBuilder()\n",
    "\t\t.uri(URI.create(\"https://nfl-schedule.p.rapidapi.com/v1/schedules\"))\n",
    "\t\t.header(\"X-RapidAPI-Key\", \"2deba3c7c5msh59e591f91803406p14659ajsn14474595701e\")\n",
    "\t\t.header(\"X-RapidAPI-Host\", \"nfl-schedule.p.rapidapi.com\")\n",
    "\t\t.method(\"GET\", HttpRequest.BodyPublishers.noBody())\n",
    "\t\t.build();\n",
    "HttpResponse<String> response = HttpClient.newHttpClient().send(request, HttpResponse.BodyHandlers.ofString());\n",
    "System.out.println(response.body());\n"
   ]
  }
 ],
 "metadata": {
  "kernelspec": {
   "display_name": "Java",
   "language": "java",
   "name": "java"
  },
  "language_info": {
   "codemirror_mode": "java",
   "file_extension": ".jshell",
   "mimetype": "text/x-java-source",
   "name": "Java",
   "pygments_lexer": "java",
   "version": "11.0.16.1+0"
  },
  "orig_nbformat": 4
 },
 "nbformat": 4,
 "nbformat_minor": 2
}
