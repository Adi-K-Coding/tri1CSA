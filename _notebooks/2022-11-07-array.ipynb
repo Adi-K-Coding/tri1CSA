{
 "cells": [
  {
   "cell_type": "markdown",
   "metadata": {},
   "source": [
    "# Arrays Student Lesson\n",
    "> Documentation of Arrays lesson\n",
    "\n",
    "- toc: true \n",
    "- badges: true\n",
    "- comments: true\n",
    "- categories: [jupyter]\n",
    "- image: images/chart-preview.png"
   ]
  },
  {
   "cell_type": "code",
   "execution_count": 16,
   "metadata": {
    "vscode": {
     "languageId": "shellscript"
    }
   },
   "outputs": [
    {
     "name": "stdout",
     "output_type": "stream",
     "text": [
      "012345667\n",
      "010305007\n",
      "\n",
      "Test Switch\n",
      "\n",
      "010305007\n",
      "710305000"
     ]
    }
   ],
   "source": [
    "public class ArrayMethods {\n",
    "    private int[] values = {0,1,2,3,4,5,6,6,7};\n",
    "\n",
    "void run1(){\n",
    "    for(int i = 0; i < values.length;i++){\n",
    "        System.out.print(values[i]);\n",
    "    }\n",
    "    for(int i = 0; i < values.length;i++){\n",
    "        if(values[i]%2==0){\n",
    "            values[i]=0;\n",
    "        }\n",
    "    } \n",
    "    System.out.println();\n",
    "    for(int i = 0; i < values.length;i++){\n",
    "        System.out.print(values[i]);\n",
    "    }\n",
    "}\n",
    "\n",
    "void run2(){\n",
    "    System.out.println(\"\\n\\nTest Switch\\n\");\n",
    "    for(int i = 0; i < values.length;i++){\n",
    "        System.out.print(values[i]);\n",
    "    }\n",
    "    int temp = values[0];\n",
    "    values[0] = values[values.length-1];\n",
    "    values[values.length-1]= temp;\n",
    "    System.out.println();\n",
    "    for(int i = 0; i < values.length;i++){\n",
    "        System.out.print(values[i]);\n",
    "    }\n",
    "}\n",
    "\n",
    "    public static void main(String[] args) {\n",
    "        ArrayMethods am = new ArrayMethods();\n",
    "        am.run1();\n",
    "        am.run2();\n",
    "    }\n",
    "}\n",
    "\n",
    "ArrayMethods.main(null);"
   ]
  }
 ],
 "metadata": {
  "kernelspec": {
   "display_name": "Bash",
   "language": "bash",
   "name": "bash"
  },
  "language_info": {
   "codemirror_mode": "java",
   "file_extension": ".jshell",
   "mimetype": "text/x-java-source",
   "name": "bash",
   "pygments_lexer": "java",
   "version": "11.0.16.1+0"
  },
  "orig_nbformat": 4,
  "vscode": {
   "interpreter": {
    "hash": "b0fa6594d8f4cbf19f97940f81e996739fb7646882a419484c72d19e05852a7e"
   }
  }
 },
 "nbformat": 4,
 "nbformat_minor": 2
}
