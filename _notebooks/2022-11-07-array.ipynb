{
 "cells": [
  {
   "cell_type": "markdown",
   "metadata": {},
   "source": [
    "# Unit 05 Arrays Student Lesson\n",
    "> Documentation of Arrays Lesson\n",
    "\n",
    "- toc: true \n",
    "- badges: true\n",
    "- comments: true\n",
    "- categories: [jupyter]\n",
    "- image: images/chart-preview.png"
   ]
  },
  {
   "cell_type": "markdown",
   "metadata": {},
   "source": [
    "# Homework"
   ]
  },
  {
   "cell_type": "markdown",
   "metadata": {},
   "source": [
    "## Hack 1: Swap the first and last element in the array "
   ]
  },
  {
   "cell_type": "code",
   "execution_count": 1,
   "metadata": {
    "vscode": {
     "languageId": "java"
    }
   },
   "outputs": [
    {
     "name": "stdout",
     "output_type": "stream",
     "text": [
      "Swap first and last element\n",
      "012345667\n",
      "712345660"
     ]
    }
   ],
   "source": [
    "public class ArrayMethods1 {\n",
    "    private int[] values = {0,1,2,3,4,5,6,6,7};\n",
    "\n",
    "void run(){\n",
    "     System.out.println(\"Swap first and last element\");\n",
    "    for(int i = 0; i < values.length;i++){\n",
    "        System.out.print(values[i]);\n",
    "    }\n",
    "    //swap code\n",
    "    int temp = values[0];\n",
    "    values[0] = values[values.length-1];\n",
    "    values[values.length-1]=temp;\n",
    "\n",
    "    System.out.println();\n",
    "    for(int i = 0; i < values.length;i++){\n",
    "        System.out.print(values[i]);\n",
    "    }\n",
    "}\n",
    "\n",
    "    public static void main(String[] args) {\n",
    "        ArrayMethods1 am = new ArrayMethods1();\n",
    "        am.run();\n",
    "        \n",
    "    }\n",
    "}\n",
    "\n",
    "ArrayMethods1.main(null);"
   ]
  },
  {
   "cell_type": "markdown",
   "metadata": {},
   "source": [
    "## Hack 2: Replace all even elements with 0"
   ]
  },
  {
   "cell_type": "code",
   "execution_count": 5,
   "metadata": {
    "vscode": {
     "languageId": "java"
    }
   },
   "outputs": [
    {
     "name": "stdout",
     "output_type": "stream",
     "text": [
      "012345667\n",
      "010305007"
     ]
    }
   ],
   "source": [
    "public class ArrayMethods2 {\n",
    "    private int[] values = {0,1,2,3,4,5,6,6,7};\n",
    "\n",
    "    void run(){\n",
    "        for(int i = 0; i < values.length;i++){\n",
    "            System.out.print(values[i]);\n",
    "        }\n",
    "        for(int i = 0; i < values.length;i++){\n",
    "            if(values[i]%2==0){\n",
    "                values[i]=0;\n",
    "            }\n",
    "        } \n",
    "        System.out.println();\n",
    "        for(int i = 0; i < values.length;i++){\n",
    "            System.out.print(values[i]);\n",
    "        }\n",
    "    }\n",
    "\n",
    "    public static void main(String[] args) {\n",
    "        ArrayMethods2 am = new ArrayMethods2();\n",
    "        am.run();\n",
    "        \n",
    "    }\n",
    "}\n",
    "ArrayMethods2.main(null);"
   ]
  },
  {
   "cell_type": "markdown",
   "metadata": {},
   "source": [
    "## Hack 3: Return true if the array is currently sorted in increasing order"
   ]
  },
  {
   "cell_type": "code",
   "execution_count": 16,
   "metadata": {
    "vscode": {
     "languageId": "java"
    }
   },
   "outputs": [
    {
     "name": "stdout",
     "output_type": "stream",
     "text": [
      "012345667\n",
      "The method returned true\n",
      "115365667\n",
      "The method returned false\n"
     ]
    }
   ],
   "source": [
    "public class ArrayMethods3 {\n",
    "    static int[] valuesOne = {0,1,2,3,4,5,6,6,7};\n",
    "    static int[] valuesTwo = {1,1,5,3,6,5,6,6,7};\n",
    "\n",
    "    void run(int [] array1){\n",
    "        for(int i = 0; i < array1.length;i++){\n",
    "            System.out.print(array1[i]);\n",
    "        }\n",
    "        \n",
    "        System.out.println(\"\\nThe method returned \"+test(array1));\n",
    "    }\n",
    "\n",
    "    boolean test(int [] array2){\n",
    "        for(int i = 0; i < array2.length-1;i++){\n",
    "            if(array2[i]<array2[i+1]){\n",
    "                break;\n",
    "            }else{\n",
    "                return false;\n",
    "            }\n",
    "        } \n",
    "        return true;\n",
    "    }\n",
    "\n",
    "    public static void main(String[] args) {\n",
    "        ArrayMethods3 am = new ArrayMethods3();\n",
    "        am.run(valuesOne);\n",
    "        am.run(valuesTwo);\n",
    "        \n",
    "    }\n",
    "}\n",
    "ArrayMethods3.main(null);"
   ]
  }
 ],
 "metadata": {
  "kernelspec": {
   "display_name": "Java",
   "language": "java",
   "name": "java"
  },
  "language_info": {
   "codemirror_mode": "java",
   "file_extension": ".jshell",
   "mimetype": "text/x-java-source",
   "name": "Java",
   "pygments_lexer": "java",
   "version": "11.0.16.1+0"
  },
  "orig_nbformat": 4,
  "vscode": {
   "interpreter": {
    "hash": "b0fa6594d8f4cbf19f97940f81e996739fb7646882a419484c72d19e05852a7e"
   }
  }
 },
 "nbformat": 4,
 "nbformat_minor": 2
}
