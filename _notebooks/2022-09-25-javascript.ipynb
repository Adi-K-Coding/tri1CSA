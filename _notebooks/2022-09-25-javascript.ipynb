{
 "cells": [
  {
   "cell_type": "code",
   "execution_count": 2,
   "id": "0824cc98-c661-44ee-b9b1-78a1ff6984c9",
   "metadata": {},
   "outputs": [
    {
     "name": "stdout",
     "output_type": "stream",
     "text": [
      "Looking at dynamic nature of types in JavaScript\n",
      "string ; This is a string\n",
      "number ; 8000\n",
      "object ; [ 'Array', 'of', 'Strings' ]\n"
     ]
    }
   ],
   "source": [
    "function logItType(output) {\n",
    "    console.log(typeof output, \";\", output);\n",
    "}\n",
    "console.log(\"Looking at dynamic nature of types in JavaScript\")\n",
    "logItType(\"This is a string\"); // String\n",
    "logItType(8000);    // Number\n",
    "logItType([\"Array\", \"of\", \"Strings\"]);  // Object is generic for this Array, which similar to Python List"
   ]
  },
  {
   "cell_type": "code",
   "execution_count": 9,
   "id": "53f8b47b-8acb-460f-af38-9598c3777519",
   "metadata": {},
   "outputs": [
    {
     "name": "stdout",
     "output_type": "stream",
     "text": [
      "object ; Team {\n",
      "  name: 'Red Bull',\n",
      "  driver1: 'Verstappen',\n",
      "  driver2: 'Perez',\n",
      "  role: '' }\n",
      "string ; {\"name\":\"Red Bull\",\"driver1\":\"Verstappen\",\"driver2\":\"Perez\",\"role\":\"\"}\n",
      "object ; Team {\n",
      "  name: 'Red Bull',\n",
      "  driver1: 'Verstappen',\n",
      "  driver2: 'Perez',\n",
      "  role: 'firstCar' }\n",
      "string ; {\"name\":\"Red Bull\",\"driver1\":\"Verstappen\",\"driver2\":\"Perez\",\"role\":\"firstCar\"}\n"
     ]
    }
   ],
   "source": [
    "function Team(name, driver1, driver2) {\n",
    "    this.name = name;\n",
    "    this.driver1 = driver1;\n",
    "    this.driver2 = driver2;\n",
    "    this.role = \"\";\n",
    "}\n",
    "\n",
    "// define a setter for role in Team data\n",
    "Team.prototype.setRole = function(role) {\n",
    "    this.role = role;\n",
    "}\n",
    "\n",
    "// define a JSON conversion \"method\" associated with Person\n",
    "Team.prototype.toJSON = function() {\n",
    "    const obj = {name: this.name, driver1: this.driver1, driver2: this.driver2, role: this.role};\n",
    "    const json = JSON.stringify(obj);  // json/string is useful when passing data on internet\n",
    "    return json;\n",
    "}\n",
    "\n",
    "// make a new Person and assign to variable teacher\n",
    "var firstCar = new Team(\"Red Bull\", \"Verstappen\", \"Perez\");  // object type is easy to work with in JavaScript\n",
    "logItType(firstCar);  // before role\n",
    "logItType(firstCar.toJSON());  // ok to do this even though role is not yet defined\n",
    "\n",
    "// output of Object and JSON/string associated with Teacher\n",
    "firstCar.setRole(\"firstCar\");   // set the role\n",
    "logItType(firstCar); \n",
    "logItType(firstCar.toJSON());"
   ]
  },
  {
   "cell_type": "code",
   "execution_count": 11,
   "id": "fe8208ec-781a-4cf5-87e0-d74624736fc1",
   "metadata": {},
   "outputs": [
    {
     "name": "stdout",
     "output_type": "stream",
     "text": [
      "object ; [ Team {\n",
      "    name: 'Red Bull',\n",
      "    driver1: 'Verstappen',\n",
      "    driver2: 'Perez',\n",
      "    role: 'First Car' },\n",
      "  Team {\n",
      "    name: 'Red Bull',\n",
      "    driver1: 'Verstappen',\n",
      "    driver2: 'Perez',\n",
      "    role: 'Car' },\n",
      "  Team {\n",
      "    name: 'Mercedes',\n",
      "    driver1: 'Hamilton',\n",
      "    driver2: 'Russell',\n",
      "    role: 'Car' },\n",
      "  Team {\n",
      "    name: 'Ferrari',\n",
      "    driver1: 'Leclerc',\n",
      "    driver2: 'Sainz',\n",
      "    role: 'Car' },\n",
      "  Team {\n",
      "    name: 'McLaren',\n",
      "    driver1: 'Norris',\n",
      "    driver2: 'Riccardo',\n",
      "    role: 'Car' },\n",
      "  Team {\n",
      "    name: 'Alfa Romeo',\n",
      "    driver1: 'Bottas',\n",
      "    driver2: 'Zhou',\n",
      "    role: 'Car' } ]\n",
      "string ; Red Bull\n",
      "string ; {\"name\":\"Red Bull\",\"driver1\":\"Verstappen\",\"driver2\":\"Perez\",\"role\":\"First Car\"}\n",
      "object ; { name: 'Red Bull',\n",
      "  driver1: 'Verstappen',\n",
      "  driver2: 'Perez',\n",
      "  role: 'First Car' }\n"
     ]
    }
   ],
   "source": [
    "var cars = [ \n",
    "    new Team(\"Alphatauri\", \"Gasly\", \"Tsunoda\"),\n",
    "    new Team(\"Mercedes\", \"Hamilton\", \"Russell\"),\n",
    "    new Team(\"Ferrari\", \"Leclerc\", \"Sainz\"),\n",
    "    new Team(\"McLaren\", \"Norris\", \"Riccardo\"),\n",
    "    new Team(\"Alfa Romeo\", \"Bottas\", \"Zhou\")\n",
    "];\n",
    "\n",
    "// define a classroom and build Classroom objects and json\n",
    "function League(firstCar, cars){ // 1 teacher, many student\n",
    "    // start Classroom with Teacher\n",
    "    firstCar.setRole(\"First Car\");\n",
    "    this.firstCar = firstCar;\n",
    "    this.league = [firstCar];\n",
    "    // add each Student to Classroom\n",
    "    this.cars = cars;\n",
    "    this.cars.forEach(car => { car.setRole(\"Car\"); this.league.push(car); });\n",
    "    // build json/string format of Classroom\n",
    "    this.json = [];\n",
    "    this.league.forEach(person => this.json.push(person.toJSON()));\n",
    "}\n",
    "\n",
    "// make a CompSci classroom from formerly defined teacher and students\n",
    "f1 = new League(firstCar, cars);\n",
    "\n",
    "// output of Objects and JSON in CompSci classroom\n",
    "logItType(f1.league);  // constructed classroom object\n",
    "logItType(f1.league[0].name);  // abstract 1st objects name\n",
    "logItType(f1.json[0]);  // show json conversion of 1st object to string\n",
    "logItType(JSON.parse(f1.json[0]));  // show JSON.parse inverse of JSON.stringify"
   ]
  },
  {
   "cell_type": "code",
   "execution_count": 12,
   "id": "48eb50fb-a460-4807-ad31-ea963b87d33c",
   "metadata": {},
   "outputs": [
    {
     "data": {
      "text/html": [
       "<div style='display:inline-block;border: 2px solid grey;box-shadow: 0.8em 0.4em 0.4em grey;'><table><tr><th><mark>Name</mark></th><th><mark>Driver 1</mark></th><th><mark>Driver 2</mark></th></tr><tr><td>Red Bull</td><td>Verstappen</td><td>Perez</td><tr><tr><td>Red Bull</td><td>Verstappen</td><td>Perez</td><tr><tr><td>Mercedes</td><td>Hamilton</td><td>Russell</td><tr><tr><td>Ferrari</td><td>Leclerc</td><td>Sainz</td><tr><tr><td>McLaren</td><td>Norris</td><td>Riccardo</td><tr><tr><td>Alfa Romeo</td><td>Bottas</td><td>Zhou</td><tr></table></div>"
      ]
     },
     "execution_count": 12,
     "metadata": {},
     "output_type": "execute_result"
    }
   ],
   "source": [
    "League.prototype._toHtml = function() {\n",
    "  // HTML Style is build using inline structure\n",
    "  var style = (\n",
    "    \"display:inline-block;\" +\n",
    "    \"border: 2px solid grey;\" +\n",
    "    \"box-shadow: 0.8em 0.4em 0.4em grey;\"\n",
    "  );\n",
    "\n",
    "  // HTML Body of Table is build as a series of concatenations (+=)\n",
    "  var body = \"\";\n",
    "  // Heading for Array Columns\n",
    "  body += \"<tr>\";\n",
    "  body += \"<th><mark>\" + \"Name\" + \"</mark></th>\";\n",
    "  body += \"<th><mark>\" + \"Driver 1\" + \"</mark></th>\";\n",
    "  body += \"<th><mark>\" + \"Driver 2\" + \"</mark></th>\";\n",
    "  body += \"</tr>\";\n",
    "  // Data of Array, iterate through each row of compsci.classroom \n",
    "  for (var row in f1.league) {\n",
    "    // tr for each row, a new line\n",
    "    body += \"<tr>\";\n",
    "    // td for each column of data\n",
    "    body += \"<td>\" + f1.league[row].name + \"</td>\";\n",
    "    body += \"<td>\" + f1.league[row].driver1 + \"</td>\";\n",
    "    body += \"<td>\" + f1.league[row].driver2 + \"</td>\";\n",
    "    // tr to end line\n",
    "    body += \"<tr>\";\n",
    "  }\n",
    "\n",
    "   // Build and HTML fragment of div, table, table body\n",
    "  return (\n",
    "    \"<div style='\" + style + \"'>\" +\n",
    "      \"<table>\" +\n",
    "        body +\n",
    "      \"</table>\" +\n",
    "    \"</div>\"\n",
    "  );\n",
    "\n",
    "};\n",
    "\n",
    "// IJavaScript HTML processor receive parameter of defined HTML fragment\n",
    "$$.html(f1._toHtml());"
   ]
  },
  {
   "cell_type": "code",
   "execution_count": null,
   "id": "752c226d-6e9c-4d60-80b7-4a8d399b87f9",
   "metadata": {},
   "outputs": [],
   "source": []
  }
 ],
 "metadata": {
  "kernelspec": {
   "display_name": "JavaScript (Node.js)",
   "language": "javascript",
   "name": "javascript"
  },
  "language_info": {
   "file_extension": ".js",
   "mimetype": "application/javascript",
   "name": "javascript",
   "version": "10.13.0"
  }
 },
 "nbformat": 4,
 "nbformat_minor": 5
}
