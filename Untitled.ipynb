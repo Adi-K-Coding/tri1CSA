{
 "cells": [
  {
   "cell_type": "code",
   "execution_count": 1,
   "id": "db42bcd8-2d4c-424a-8d0b-2083b7a8a10f",
   "metadata": {},
   "outputs": [
    {
     "name": "stdout",
     "output_type": "stream",
     "text": [
      "bash: cd: tri1CSA: No such file or directory\n",
      "fatal: not a git repository (or any of the parent directories): .git\n"
     ]
    },
    {
     "ename": "",
     "evalue": "128",
     "output_type": "error",
     "traceback": []
    }
   ],
   "source": [
    "cd ~\n",
    "cd vscode\n",
    "cd tri1CSA\n",
    "git pull https://github.com/Adi-K-Coding/tri1CSA.git"
   ]
  },
  {
   "cell_type": "code",
   "execution_count": null,
   "id": "7fcf9f02-d56d-4045-be1b-3e9e58571efd",
   "metadata": {},
   "outputs": [],
   "source": []
  }
 ],
 "metadata": {
  "kernelspec": {
   "display_name": "Bash",
   "language": "bash",
   "name": "bash"
  },
  "language_info": {
   "codemirror_mode": "shell",
   "file_extension": ".sh",
   "mimetype": "text/x-sh",
   "name": "bash"
  }
 },
 "nbformat": 4,
 "nbformat_minor": 5
}
